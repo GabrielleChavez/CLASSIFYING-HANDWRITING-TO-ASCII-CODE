{
 "cells": [
  {
   "cell_type": "markdown",
   "metadata": {},
   "source": [
    "# Testing All Models\n",
    "In this notebook we will test all machine learning and deep learning models."
   ]
  },
  {
   "cell_type": "code",
   "execution_count": 1,
   "metadata": {},
   "outputs": [],
   "source": [
    "from testing_models import evaluate_model, test_model_nn\n",
    "from preprocess import get_data\n",
    "from classifiers import *\n",
    "from nn import *\n",
    "from torch import *"
   ]
  },
  {
   "cell_type": "markdown",
   "metadata": {},
   "source": [
    "## Data\n",
    "We used data from the Alpha_Num dataset on kaggle. It contains over 108000 images of handwritten characters. Each image is approximately 28x28 pixels and is in gray-scale. However, before we can train the models we preprocessed them to ensure each image had the same features:\n",
    "* 28x28 pixels: any image less than 28x28 was padded\n",
    "* Gray-Scale"
   ]
  },
  {
   "cell_type": "code",
   "execution_count": 2,
   "metadata": {},
   "outputs": [],
   "source": [
    "X_train, y_train = get_data(\"train\", \"ascii_file_counts.csv\")\n",
    "X_test, y_test = get_data(\"test\", \"ascii_file_counts.csv\")"
   ]
  },
  {
   "cell_type": "markdown",
   "metadata": {},
   "source": [
    "## Machine Learning Models\n",
    "In this section we will run and test the following models:\n",
    "* XGBoost\n",
    "* Random Forest\n",
    "* Perceptron\n",
    "* Support Vector Machine\n",
    "* K-Nearest Neighbors\n",
    "\n",
    "For more information please refer to the **classifiers.py** "
   ]
  },
  {
   "cell_type": "code",
   "execution_count": null,
   "metadata": {},
   "outputs": [],
   "source": [
    "# XGboost train\n",
    "estimators = range(20,100, 10)\n",
    "depths = range(2,20,2)\n",
    "\n",
    "f1_list_estimators = []\n",
    "acc_list_estimators = []\n",
    "prec_list_estimators =[]\n",
    "recall_list_estimators = []\n",
    "\n",
    "for estimator_count in estimators:\n",
    "   model = train_xgboost(X_train, y_train, n_estimators = estimator_count, max_depth = 10)\n",
    "   y_pred = model.predict(X_test)\n",
    "   f1, acc, cm, prec, recall = evaluate_model(model, y_test, y_pred)\n",
    "   f1_list_estimators.append(f1)\n",
    "   acc_list_estimators.append(acc)\n",
    "   prec_list_estimators.append(prec)\n",
    "   recall_list_estimators.append(recall)\n",
    "\n",
    "f1_list_depth = []\n",
    "acc_list_depth = []\n",
    "prec_list_depth =[]\n",
    "recall_list_depth = []\n",
    "\n",
    "for depth in depths:\n",
    "   model = train_xgboost(X_train, y_train, n_estimators =35, max_depth = depth)\n",
    "   y_pred = model.predict(X_test)\n",
    "   f1, acc, cm, prec, recall = evaluate_model(model, y_test, y_pred)\n",
    "   f1_list_depth.append(f1)\n",
    "   acc_list_depth.append(acc)\n",
    "   prec_list_depth.append(prec)\n",
    "   recall_list_depth.append(recall)\n"
   ]
  },
  {
   "cell_type": "code",
   "execution_count": null,
   "metadata": {},
   "outputs": [],
   "source": [
    "# Create Plots\n",
    "XGBoost_Estimators_Plots(estimators, f1_list_estimators, acc_list_estimators, prec_list_estimators, recall_list_estimators)\n",
    "XGBoost_Depth_Plots(depth, f1_list_depth, acc_list_depth, prec_list_depth, recall_list_depth)\n",
    "  "
   ]
  },
  {
   "cell_type": "code",
   "execution_count": null,
   "metadata": {},
   "outputs": [],
   "source": [
    "# Random Forest Train\n",
    "estimators = range(20,100, 10)\n",
    "\n",
    "f1_list_estimators = []\n",
    "acc_list_estimators = []\n",
    "prec_list_estimators =[]\n",
    "recall_list_estimators = []\n",
    "\n",
    "for estimator_count in estimators:\n",
    "   model = train_random_forest(X_train, y_train, n_estimators = estimator_count)\n",
    "   y_pred = model.predict(X_test)\n",
    "   f1, acc, cm, prec, recall = evaluate_model(model, y_test, y_pred)\n",
    "   f1_list_estimators.append(f1)\n",
    "   acc_list_estimators.append(acc)\n",
    "   prec_list_estimators.append(prec)\n",
    "   recall_list_estimators.append(recall)"
   ]
  },
  {
   "cell_type": "code",
   "execution_count": null,
   "metadata": {},
   "outputs": [],
   "source": [
    "RandomForest_plots(depth, f1_list_estimators, acc_list_estimators, prec_list_estimators, recall_list_estimators)\n",
    "   "
   ]
  },
  {
   "cell_type": "code",
   "execution_count": null,
   "metadata": {},
   "outputs": [],
   "source": [
    "#KNN Forest Train\n",
    "neighbors = range(5, 100, 5)\n",
    "\n",
    "f1_list_neighbors = []\n",
    "acc_list_neighbors = []\n",
    "prec_list_neighbors =[]\n",
    "recall_list_neighbors = []\n",
    "\n",
    "for neighbor in neighbors:\n",
    "   model = train_knn(X_train, y_train, n_neighbors=neighbor)\n",
    "   y_pred = model.predict(X_test)\n",
    "   f1, acc, cm, prec, recall = evaluate_model(model, y_test, y_pred)\n",
    "   f1_list_neighbors.append(f1)\n",
    "   acc_list_neighbors.append(acc)\n",
    "   prec_list_neighbors.append(prec)\n",
    "   recall_list_neighbors.append(recall)"
   ]
  },
  {
   "cell_type": "code",
   "execution_count": null,
   "metadata": {},
   "outputs": [],
   "source": [
    "KNN_Plots(depth, f1_list_neighbors, acc_list_neighbors, prec_list_neighbors, recall_list_neighbors)  "
   ]
  },
  {
   "cell_type": "code",
   "execution_count": null,
   "metadata": {},
   "outputs": [],
   "source": [
    "#SVM Train\n",
    "kernels = ['poly', 'rbf', 'linear', 'sigmoid', 'precomputed']\n",
    "\n",
    "f1_list_kernel = []\n",
    "acc_list_kernel = []\n",
    "prec_list_kernel =[]\n",
    "recall_list_kernel = []\n",
    "\n",
    "for kernel in kernels:\n",
    "   model = train_knn(X_train, y_train, kernel = kernel)\n",
    "   y_pred = model.predict(X_test)\n",
    "   f1, acc, cm, prec, recall = evaluate_model(model, y_test, y_pred)\n",
    "   f1_list_kernel.append(f1)\n",
    "   acc_list_kernel.append(acc)\n",
    "   prec_list_kernel.append(prec)\n",
    "   recall_list_kernel.append(recall)\n"
   ]
  },
  {
   "cell_type": "code",
   "execution_count": null,
   "metadata": {},
   "outputs": [],
   "source": [
    "SVM_plot(kernels, f1_list_kernel, acc_list_kernel, prec_list_kernel, recall_list_kernel)"
   ]
  },
  {
   "cell_type": "code",
   "execution_count": null,
   "metadata": {},
   "outputs": [],
   "source": [
    "f1_list = []\n",
    "acc_list = []\n",
    "prec_list = []\n",
    "recall_list = []"
   ]
  },
  {
   "cell_type": "code",
   "execution_count": 3,
   "metadata": {},
   "outputs": [
    {
     "name": "stderr",
     "output_type": "stream",
     "text": [
      "/var/folders/92/3_42v5w111v7m641kr368p5c0000gn/T/ipykernel_10233/3860436462.py:1: FutureWarning: You are using `torch.load` with `weights_only=False` (the current default value), which uses the default pickle module implicitly. It is possible to construct malicious pickle data which will execute arbitrary code during unpickling (See https://github.com/pytorch/pytorch/blob/main/SECURITY.md#untrusted-models for more details). In a future release, the default value for `weights_only` will be flipped to `True`. This limits the functions that could be executed during unpickling. Arbitrary objects will no longer be allowed to be loaded via this mode unless they are explicitly allowlisted by the user via `torch.serialization.add_safe_globals`. We recommend you start setting `weights_only=True` for any use case where you don't have full control of the loaded file. Please open an issue on GitHub for any issues related to this experimental feature.\n",
      "  test = torch.load(\"FeedForward.pth\")\n"
     ]
    },
    {
     "name": "stdout",
     "output_type": "stream",
     "text": [
      "(0.538627155399579, 0.5388830056632442, array([[  29,    0,    0, ...,    0,    1,    0],\n",
      "       [   0,    6,    0, ...,    0,    0,    0],\n",
      "       [   0,    0,   14, ...,    0,    0,    0],\n",
      "       ...,\n",
      "       [   0,    0,    0, ...,    0,    3,    0],\n",
      "       [   0,    0,    0, ...,    0,    0, 1004],\n",
      "       [   0,    0,    0, ...,    0,    0,    0]]), 0.5447318539286866, 0.5388830056632442)\n"
     ]
    },
    {
     "name": "stderr",
     "output_type": "stream",
     "text": [
      "/opt/anaconda3/lib/python3.12/site-packages/sklearn/metrics/_classification.py:1531: UndefinedMetricWarning: Precision is ill-defined and being set to 0.0 in labels with no predicted samples. Use `zero_division` parameter to control this behavior.\n",
      "  _warn_prf(average, modifier, f\"{metric.capitalize()} is\", len(result))\n",
      "/opt/anaconda3/lib/python3.12/site-packages/sklearn/metrics/_classification.py:1531: UndefinedMetricWarning: Recall is ill-defined and being set to 0.0 in labels with no true samples. Use `zero_division` parameter to control this behavior.\n",
      "  _warn_prf(average, modifier, f\"{metric.capitalize()} is\", len(result))\n",
      "/opt/anaconda3/lib/python3.12/site-packages/sklearn/metrics/_classification.py:1531: UndefinedMetricWarning: Precision is ill-defined and being set to 0.0 in labels with no predicted samples. Use `zero_division` parameter to control this behavior.\n",
      "  _warn_prf(average, modifier, f\"{metric.capitalize()} is\", len(result))\n",
      "/opt/anaconda3/lib/python3.12/site-packages/sklearn/metrics/_classification.py:1531: UndefinedMetricWarning: Recall is ill-defined and being set to 0.0 in labels with no true samples. Use `zero_division` parameter to control this behavior.\n",
      "  _warn_prf(average, modifier, f\"{metric.capitalize()} is\", len(result))\n"
     ]
    }
   ],
   "source": [
    "test = torch.load(\"FeedForward.pth\")\n",
    "dataset_test = AlphaNumDataset(csv_dir=\"ascii_file_counts.csv\", data_dir=\"test\")\n",
    "data_loader_test = DataLoader(dataset_test, batch_size=64, shuffle=True)\n",
    "device = torch.device(\"cuda\" if torch.cuda.is_available() else \"cpu\")\n",
    "criterion = nn.CrossEntropyLoss()  \n",
    "f1,acc,prec,recall =test_model_nn(test,data_loader_test, device, criterion)"
   ]
  },
  {
   "cell_type": "code",
   "execution_count": null,
   "metadata": {},
   "outputs": [],
   "source": []
  }
 ],
 "metadata": {
  "kernelspec": {
   "display_name": "base",
   "language": "python",
   "name": "python3"
  },
  "language_info": {
   "codemirror_mode": {
    "name": "ipython",
    "version": 3
   },
   "file_extension": ".py",
   "mimetype": "text/x-python",
   "name": "python",
   "nbconvert_exporter": "python",
   "pygments_lexer": "ipython3",
   "version": "3.12.7"
  }
 },
 "nbformat": 4,
 "nbformat_minor": 2
}
