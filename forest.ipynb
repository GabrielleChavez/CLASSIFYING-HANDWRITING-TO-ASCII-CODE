{
 "cells": [
  {
   "cell_type": "code",
   "execution_count": 1,
   "metadata": {},
   "outputs": [],
   "source": [
    "from sklearn.ensemble import RandomForestClassifier\n",
    "import numpy as np\n",
    "from sklearn.model_selection import train_test_split\n",
    "from skopt import BayesSearchCV\n",
    "from skopt.space import Integer, Real\n",
    "from skopt.plots import plot_objective, plot_convergence\n",
    "from sklearn.metrics import mean_squared_error\n",
    "import matplotlib.pyplot as plt\n",
    "from preprocess import get_data\n"
   ]
  },
  {
   "cell_type": "code",
   "execution_count": 2,
   "metadata": {},
   "outputs": [],
   "source": [
    "trainData =get_data(\"train/\",\"ascii_file_counts.csv\")\n",
    "testData = get_data(\"test\",\"ascii_file_counts.csv\")\n",
    "XTrain, ytrain = trainData\n",
    "XTest, ytest = testData"
   ]
  },
  {
   "cell_type": "code",
   "execution_count": 3,
   "metadata": {},
   "outputs": [],
   "source": [
    "model = RandomForestClassifier(random_state=42)"
   ]
  },
  {
   "cell_type": "code",
   "execution_count": 4,
   "metadata": {},
   "outputs": [],
   "source": [
    "param_space = {\n",
    "    'n_estimators': Integer(50, 300),        # Number of trees\n",
    "    'max_depth': Integer(3, 20),             # Depth of each tree\n",
    "    'min_samples_split': Integer(2, 10),     # Minimum samples to split\n",
    "    'min_samples_leaf': Integer(1, 10),      # Minimum samples per leaf\n",
    "}\n",
    "\n"
   ]
  },
  {
   "cell_type": "code",
   "execution_count": 9,
   "metadata": {},
   "outputs": [],
   "source": [
    "bayes_opt = BayesSearchCV(\n",
    "    estimator=model,\n",
    "    search_spaces=param_space,\n",
    "    n_iter=30,  # Number of iterations\n",
    "    cv=5,       # 5-fold cross-validation\n",
    "    scoring='neg_mean_squared_error',  # Objective: minimize error\n",
    "    n_jobs=-1,  # Use all CPU cores\n",
    "    random_state=42,\n",
    "    verbose=3\n",
    ")"
   ]
  },
  {
   "cell_type": "code",
   "execution_count": null,
   "metadata": {},
   "outputs": [
    {
     "name": "stdout",
     "output_type": "stream",
     "text": [
      "Fitting 5 folds for each of 1 candidates, totalling 5 fits\n",
      "[CV 5/5] END max_depth=10, min_samples_leaf=8, min_samples_split=9, n_estimators=129;, score=-598.419 total time=  32.6s\n",
      "[CV 4/5] END max_depth=10, min_samples_leaf=8, min_samples_split=9, n_estimators=129;, score=-613.455 total time=  32.6s\n",
      "[CV 3/5] END max_depth=10, min_samples_leaf=8, min_samples_split=9, n_estimators=129;, score=-618.857 total time=  32.7s\n",
      "[CV 1/5] END max_depth=10, min_samples_leaf=8, min_samples_split=9, n_estimators=129;, score=-607.151 total time=  32.8s\n",
      "[CV 2/5] END max_depth=10, min_samples_leaf=8, min_samples_split=9, n_estimators=129;, score=-601.495 total time=  32.8s\n",
      "Fitting 5 folds for each of 1 candidates, totalling 5 fits\n",
      "[CV 3/5] END max_depth=17, min_samples_leaf=9, min_samples_split=4, n_estimators=288;, score=-372.812 total time= 2.1min\n",
      "[CV 2/5] END max_depth=17, min_samples_leaf=9, min_samples_split=4, n_estimators=288;, score=-353.540 total time= 2.1min\n",
      "[CV 4/5] END max_depth=17, min_samples_leaf=9, min_samples_split=4, n_estimators=288;, score=-369.910 total time= 2.2min\n",
      "[CV 5/5] END max_depth=17, min_samples_leaf=9, min_samples_split=4, n_estimators=288;, score=-357.383 total time= 2.2min\n",
      "[CV 1/5] END max_depth=17, min_samples_leaf=9, min_samples_split=4, n_estimators=288;, score=-355.602 total time= 2.2min\n",
      "Fitting 5 folds for each of 1 candidates, totalling 5 fits\n",
      "[CV 3/5] END max_depth=11, min_samples_leaf=9, min_samples_split=3, n_estimators=158;, score=-572.190 total time=  44.6s\n",
      "[CV 2/5] END max_depth=11, min_samples_leaf=9, min_samples_split=3, n_estimators=158;, score=-555.569 total time=  45.1s\n",
      "[CV 5/5] END max_depth=11, min_samples_leaf=9, min_samples_split=3, n_estimators=158;, score=-556.013 total time=  45.0s\n",
      "[CV 4/5] END max_depth=11, min_samples_leaf=9, min_samples_split=3, n_estimators=158;, score=-560.045 total time=  45.1s\n",
      "[CV 1/5] END max_depth=11, min_samples_leaf=9, min_samples_split=3, n_estimators=158;, score=-565.491 total time=  44.6s\n",
      "Fitting 5 folds for each of 1 candidates, totalling 5 fits\n"
     ]
    }
   ],
   "source": [
    "bayes_opt.fit(XTrain, ytrain)"
   ]
  },
  {
   "cell_type": "code",
   "execution_count": null,
   "metadata": {},
   "outputs": [],
   "source": [
    "import pandas as pd\n",
    "import matplotlib.pyplot as plt\n",
    "\n",
    "# Extract optimization results\n",
    "results = pd.DataFrame(bayes_opt.cv_results_)\n",
    "\n",
    "# Filter relevant columns: 'param_n_estimators' and 'mean_test_score'\n",
    "n_estimators = results['param_n_estimators']\n",
    "mean_test_score = results['mean_test_score']\n",
    "\n",
    "# Convert negative MSE to accuracy (optional: higher = better)\n",
    "accuracy = -mean_test_score  # If scoring='neg_mean_squared_error'\n",
    "\n",
    "# Sort values by n_estimators for a cleaner plot\n",
    "sorted_indices = n_estimators.argsort()\n",
    "n_estimators_sorted = n_estimators.iloc[sorted_indices]\n",
    "accuracy_sorted = accuracy.iloc[sorted_indices]\n",
    "\n",
    "# Plot n_estimators vs accuracy\n",
    "plt.figure(figsize=(10, 6))\n",
    "plt.plot(n_estimators_sorted, accuracy_sorted, marker='o', linestyle='-')\n",
    "plt.title('n_estimators vs Accuracy')\n",
    "plt.xlabel('n_estimators')\n",
    "plt.ylabel('Accuracy (Inverse of MSE)')\n",
    "plt.grid(True)\n",
    "plt.show()\n"
   ]
  }
 ],
 "metadata": {
  "kernelspec": {
   "display_name": "nlp-class",
   "language": "python",
   "name": "python3"
  },
  "language_info": {
   "codemirror_mode": {
    "name": "ipython",
    "version": 3
   },
   "file_extension": ".py",
   "mimetype": "text/x-python",
   "name": "python",
   "nbconvert_exporter": "python",
   "pygments_lexer": "ipython3",
   "version": "3.12.6"
  }
 },
 "nbformat": 4,
 "nbformat_minor": 2
}
