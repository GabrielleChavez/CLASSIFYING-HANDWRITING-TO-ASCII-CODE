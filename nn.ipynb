{
 "cells": [
  {
   "cell_type": "code",
   "execution_count": 1,
   "metadata": {},
   "outputs": [],
   "source": [
    "from nn import * \n",
    "from testing_models import test_model_nn\n",
    "from torch.optim.lr_scheduler import ReduceLROnPlateau"
   ]
  },
  {
   "cell_type": "code",
   "execution_count": 2,
   "metadata": {},
   "outputs": [],
   "source": [
    "input_size = 28 * 28  # Flattened image size (28x28)\n",
    "num_classes = 93  # Number of classes (modify if needed)\n",
    "learning_rate = 0.001\n",
    "num_epochs = 20\n",
    "batch_size = 64\n",
    "set_seed(42)\n",
    "\n",
    "dataset = AlphaNumDataset(csv_dir=\"ascii_file_counts.csv\", data_dir=\"train\")\n",
    "data_loader = DataLoader(dataset, batch_size=batch_size, shuffle=True)\n",
    "dataset_test = AlphaNumDataset(csv_dir=\"ascii_file_counts.csv\", data_dir=\"test\")\n",
    "data_loader_test = DataLoader(dataset_test, batch_size=batch_size, shuffle=True)\n",
    "val_dataset = AlphaNumDataset(csv_dir=\"ascii_file_counts.csv\", data_dir=\"validation\")\n",
    "val_loader = DataLoader(val_dataset, batch_size=batch_size, shuffle=True)\n",
    "\n",
    "\n"
   ]
  },
  {
   "cell_type": "code",
   "execution_count": 3,
   "metadata": {},
   "outputs": [
    {
     "name": "stdout",
     "output_type": "stream",
     "text": [
      "Epoch [1/20], Train Loss: 2.7712, Validation Loss: 1.8609, Validation Accuracy: 49.62%\n",
      "Validation loss improved! Saving model...\n",
      "Epoch [2/20], Train Loss: 1.6891, Validation Loss: 1.7061, Validation Accuracy: 52.11%\n",
      "Validation loss improved! Saving model...\n",
      "Epoch [3/20], Train Loss: 1.4046, Validation Loss: 1.3880, Validation Accuracy: 59.94%\n",
      "Validation loss improved! Saving model...\n",
      "Epoch [4/20], Train Loss: 1.2490, Validation Loss: 1.3412, Validation Accuracy: 61.04%\n",
      "Validation loss improved! Saving model...\n",
      "Epoch [5/20], Train Loss: 1.1413, Validation Loss: 1.1856, Validation Accuracy: 65.63%\n",
      "Validation loss improved! Saving model...\n",
      "Epoch [6/20], Train Loss: 1.0552, Validation Loss: 1.2853, Validation Accuracy: 62.91%\n",
      "Validation loss did not improve. Patience: 1/3\n",
      "Epoch [7/20], Train Loss: 0.9994, Validation Loss: 1.0700, Validation Accuracy: 68.27%\n",
      "Validation loss improved! Saving model...\n",
      "Epoch [8/20], Train Loss: 0.9415, Validation Loss: 0.9721, Validation Accuracy: 71.38%\n",
      "Validation loss improved! Saving model...\n",
      "Epoch [9/20], Train Loss: 0.8951, Validation Loss: 0.9074, Validation Accuracy: 72.22%\n",
      "Validation loss improved! Saving model...\n",
      "Epoch [10/20], Train Loss: 0.8567, Validation Loss: 0.9283, Validation Accuracy: 71.60%\n",
      "Validation loss did not improve. Patience: 1/3\n",
      "Epoch [11/20], Train Loss: 0.8336, Validation Loss: 0.8663, Validation Accuracy: 74.14%\n",
      "Validation loss improved! Saving model...\n",
      "Epoch [12/20], Train Loss: 0.8015, Validation Loss: 0.8365, Validation Accuracy: 75.13%\n",
      "Validation loss improved! Saving model...\n",
      "Epoch [13/20], Train Loss: 0.7853, Validation Loss: 0.8766, Validation Accuracy: 73.43%\n",
      "Validation loss did not improve. Patience: 1/3\n",
      "Epoch [14/20], Train Loss: 0.7607, Validation Loss: 0.8221, Validation Accuracy: 75.23%\n",
      "Validation loss improved! Saving model...\n",
      "Epoch [15/20], Train Loss: 0.7377, Validation Loss: 0.8058, Validation Accuracy: 74.98%\n",
      "Validation loss improved! Saving model...\n",
      "Epoch [16/20], Train Loss: 0.7185, Validation Loss: 0.8957, Validation Accuracy: 73.59%\n",
      "Validation loss did not improve. Patience: 1/3\n",
      "Epoch [17/20], Train Loss: 0.7061, Validation Loss: 0.7961, Validation Accuracy: 75.60%\n",
      "Validation loss improved! Saving model...\n",
      "Epoch [18/20], Train Loss: 0.6880, Validation Loss: 0.9039, Validation Accuracy: 73.13%\n",
      "Validation loss did not improve. Patience: 1/3\n",
      "Epoch [19/20], Train Loss: 0.6776, Validation Loss: 0.7938, Validation Accuracy: 75.94%\n",
      "Validation loss improved! Saving model...\n",
      "Epoch [20/20], Train Loss: 0.6596, Validation Loss: 0.8589, Validation Accuracy: 73.99%\n",
      "Validation loss did not improve. Patience: 1/3\n"
     ]
    }
   ],
   "source": [
    "# Model, Loss, and Optimizer\n",
    "device = torch.device(\"cuda\" if torch.cuda.is_available() else \"cpu\")\n",
    "model = FeedForwardNN(input_size=input_size, num_classes=num_classes, hidden_size=288).to(device)\n",
    "criterion = nn.CrossEntropyLoss()  # Suitable for classification tasks\n",
    "optimizer = optim.Adam(model.parameters(), lr=learning_rate)\n",
    "scheduler = ReduceLROnPlateau(optimizer, mode = 'min', factor = .2, patience =10)  # Reduce LR by 10x every 5 epochs\n",
    "best_val_loss = float('inf')\n",
    "patience = 3  # Number of epochs to wait for improvement\n",
    "counter = 0\n",
    "\n",
    "for epoch in range(num_epochs):\n",
    "    # Training step\n",
    "    model.train()\n",
    "    running_loss = 0.0\n",
    "    for images, labels in data_loader:\n",
    "        images, labels = images.to(device), labels.to(device)\n",
    "        outputs = model(images)\n",
    "        loss = criterion(outputs, labels)\n",
    "\n",
    "        optimizer.zero_grad()\n",
    "        loss.backward()\n",
    "        optimizer.step()\n",
    "        running_loss += loss.item()\n",
    "\n",
    "    # Validation step\n",
    "    val_loss, val_accuracy = validate(model, val_loader, criterion, device)\n",
    "\n",
    "    print(f\"Epoch [{epoch+1}/{num_epochs}], Train Loss: {running_loss/len(data_loader):.4f}, \"\n",
    "          f\"Validation Loss: {val_loss:.4f}, Validation Accuracy: {val_accuracy:.2f}%\")\n",
    "\n",
    "    # Early stopping logic\n",
    "    if val_loss < best_val_loss:\n",
    "        best_val_loss = val_loss\n",
    "        counter = 0\n",
    "        print(\"Validation loss improved! Saving model...\")\n",
    "    else:\n",
    "        counter += 1\n",
    "        print(f\"Validation loss did not improve. Patience: {counter}/{patience}\")\n",
    "        if counter >= patience:\n",
    "            print(\"Early stopping triggered!\")\n",
    "            break\n",
    "    scheduler.step(val_loss)"
   ]
  },
  {
   "cell_type": "code",
   "execution_count": 11,
   "metadata": {},
   "outputs": [
    {
     "name": "stdout",
     "output_type": "stream",
     "text": [
      "Epoch [1/20], Train Loss: 2.7712, Validation Loss: 1.8609, Validation Accuracy: 49.62%\n",
      "Validation loss improved! Saving model...\n",
      "Epoch [2/20], Train Loss: 1.6891, Validation Loss: 1.7061, Validation Accuracy: 52.11%\n",
      "Validation loss improved! Saving model...\n",
      "Epoch [3/20], Train Loss: 1.4046, Validation Loss: 1.3880, Validation Accuracy: 59.94%\n",
      "Validation loss improved! Saving model...\n",
      "Epoch [4/20], Train Loss: 1.2490, Validation Loss: 1.3412, Validation Accuracy: 61.04%\n",
      "Validation loss improved! Saving model...\n",
      "Epoch [5/20], Train Loss: 1.1413, Validation Loss: 1.1856, Validation Accuracy: 65.63%\n",
      "Validation loss improved! Saving model...\n",
      "Epoch [6/20], Train Loss: 1.0552, Validation Loss: 1.2853, Validation Accuracy: 62.91%\n",
      "Validation loss did not improve. Patience: 1/3\n"
     ]
    },
    {
     "ename": "KeyboardInterrupt",
     "evalue": "",
     "output_type": "error",
     "traceback": [
      "\u001b[0;31m---------------------------------------------------------------------------\u001b[0m",
      "\u001b[0;31mKeyboardInterrupt\u001b[0m                         Traceback (most recent call last)",
      "\u001b[1;32m/Users/jacksonshapiro/Downloads/ML Project/nn.ipynb Cell 4\u001b[0m line \u001b[0;36m9\n\u001b[1;32m      <a href='vscode-notebook-cell:/Users/jacksonshapiro/Downloads/ML%20Project/nn.ipynb#W3sZmlsZQ%3D%3D?line=6'>7</a>\u001b[0m patience \u001b[39m=\u001b[39m \u001b[39m3\u001b[39m  \u001b[39m# Number of epochs to wait for improvement\u001b[39;00m\n\u001b[1;32m      <a href='vscode-notebook-cell:/Users/jacksonshapiro/Downloads/ML%20Project/nn.ipynb#W3sZmlsZQ%3D%3D?line=7'>8</a>\u001b[0m counter \u001b[39m=\u001b[39m \u001b[39m0\u001b[39m\n\u001b[0;32m----> <a href='vscode-notebook-cell:/Users/jacksonshapiro/Downloads/ML%20Project/nn.ipynb#W3sZmlsZQ%3D%3D?line=8'>9</a>\u001b[0m train_model(num_epochs, data_loader, val_loader, device, model, criterion, optimizer, scheduler, patience)\n",
      "File \u001b[0;32m~/Downloads/ML Project/nn.py:481\u001b[0m, in \u001b[0;36mtrain_model\u001b[0;34m(num_epochs, data_loader, val_loader, device, model, criterion, optimizer, scheduler, patience, counter)\u001b[0m\n\u001b[1;32m    479\u001b[0m model\u001b[39m.\u001b[39mtrain()\n\u001b[1;32m    480\u001b[0m running_loss \u001b[39m=\u001b[39m \u001b[39m0.0\u001b[39m\n\u001b[0;32m--> 481\u001b[0m \u001b[39mfor\u001b[39;00m images, labels \u001b[39min\u001b[39;00m data_loader:\n\u001b[1;32m    482\u001b[0m     images, labels \u001b[39m=\u001b[39m images\u001b[39m.\u001b[39mto(device), labels\u001b[39m.\u001b[39mto(device)\n\u001b[1;32m    483\u001b[0m     outputs \u001b[39m=\u001b[39m model(images)\n",
      "File \u001b[0;32m/opt/anaconda3/lib/python3.12/site-packages/torch/utils/data/dataloader.py:701\u001b[0m, in \u001b[0;36m_BaseDataLoaderIter.__next__\u001b[0;34m(self)\u001b[0m\n\u001b[1;32m    698\u001b[0m \u001b[39mif\u001b[39;00m \u001b[39mself\u001b[39m\u001b[39m.\u001b[39m_sampler_iter \u001b[39mis\u001b[39;00m \u001b[39mNone\u001b[39;00m:\n\u001b[1;32m    699\u001b[0m     \u001b[39m# TODO(https://github.com/pytorch/pytorch/issues/76750)\u001b[39;00m\n\u001b[1;32m    700\u001b[0m     \u001b[39mself\u001b[39m\u001b[39m.\u001b[39m_reset()  \u001b[39m# type: ignore[call-arg]\u001b[39;00m\n\u001b[0;32m--> 701\u001b[0m data \u001b[39m=\u001b[39m \u001b[39mself\u001b[39m\u001b[39m.\u001b[39m_next_data()\n\u001b[1;32m    702\u001b[0m \u001b[39mself\u001b[39m\u001b[39m.\u001b[39m_num_yielded \u001b[39m+\u001b[39m\u001b[39m=\u001b[39m \u001b[39m1\u001b[39m\n\u001b[1;32m    703\u001b[0m \u001b[39mif\u001b[39;00m (\n\u001b[1;32m    704\u001b[0m     \u001b[39mself\u001b[39m\u001b[39m.\u001b[39m_dataset_kind \u001b[39m==\u001b[39m _DatasetKind\u001b[39m.\u001b[39mIterable\n\u001b[1;32m    705\u001b[0m     \u001b[39mand\u001b[39;00m \u001b[39mself\u001b[39m\u001b[39m.\u001b[39m_IterableDataset_len_called \u001b[39mis\u001b[39;00m \u001b[39mnot\u001b[39;00m \u001b[39mNone\u001b[39;00m\n\u001b[1;32m    706\u001b[0m     \u001b[39mand\u001b[39;00m \u001b[39mself\u001b[39m\u001b[39m.\u001b[39m_num_yielded \u001b[39m>\u001b[39m \u001b[39mself\u001b[39m\u001b[39m.\u001b[39m_IterableDataset_len_called\n\u001b[1;32m    707\u001b[0m ):\n",
      "File \u001b[0;32m/opt/anaconda3/lib/python3.12/site-packages/torch/utils/data/dataloader.py:757\u001b[0m, in \u001b[0;36m_SingleProcessDataLoaderIter._next_data\u001b[0;34m(self)\u001b[0m\n\u001b[1;32m    755\u001b[0m \u001b[39mdef\u001b[39;00m \u001b[39m_next_data\u001b[39m(\u001b[39mself\u001b[39m):\n\u001b[1;32m    756\u001b[0m     index \u001b[39m=\u001b[39m \u001b[39mself\u001b[39m\u001b[39m.\u001b[39m_next_index()  \u001b[39m# may raise StopIteration\u001b[39;00m\n\u001b[0;32m--> 757\u001b[0m     data \u001b[39m=\u001b[39m \u001b[39mself\u001b[39m\u001b[39m.\u001b[39m_dataset_fetcher\u001b[39m.\u001b[39mfetch(index)  \u001b[39m# may raise StopIteration\u001b[39;00m\n\u001b[1;32m    758\u001b[0m     \u001b[39mif\u001b[39;00m \u001b[39mself\u001b[39m\u001b[39m.\u001b[39m_pin_memory:\n\u001b[1;32m    759\u001b[0m         data \u001b[39m=\u001b[39m _utils\u001b[39m.\u001b[39mpin_memory\u001b[39m.\u001b[39mpin_memory(data, \u001b[39mself\u001b[39m\u001b[39m.\u001b[39m_pin_memory_device)\n",
      "File \u001b[0;32m/opt/anaconda3/lib/python3.12/site-packages/torch/utils/data/_utils/fetch.py:52\u001b[0m, in \u001b[0;36m_MapDatasetFetcher.fetch\u001b[0;34m(self, possibly_batched_index)\u001b[0m\n\u001b[1;32m     50\u001b[0m         data \u001b[39m=\u001b[39m \u001b[39mself\u001b[39m\u001b[39m.\u001b[39mdataset\u001b[39m.\u001b[39m__getitems__(possibly_batched_index)\n\u001b[1;32m     51\u001b[0m     \u001b[39melse\u001b[39;00m:\n\u001b[0;32m---> 52\u001b[0m         data \u001b[39m=\u001b[39m [\u001b[39mself\u001b[39m\u001b[39m.\u001b[39mdataset[idx] \u001b[39mfor\u001b[39;00m idx \u001b[39min\u001b[39;00m possibly_batched_index]\n\u001b[1;32m     53\u001b[0m \u001b[39melse\u001b[39;00m:\n\u001b[1;32m     54\u001b[0m     data \u001b[39m=\u001b[39m \u001b[39mself\u001b[39m\u001b[39m.\u001b[39mdataset[possibly_batched_index]\n",
      "File \u001b[0;32m~/Downloads/ML Project/nn.py:80\u001b[0m, in \u001b[0;36mAlphaNumDataset.__getitem__\u001b[0;34m(self, idx)\u001b[0m\n\u001b[1;32m     77\u001b[0m     new_mapping \u001b[39m=\u001b[39m \u001b[39m92\u001b[39m\n\u001b[1;32m     79\u001b[0m transform \u001b[39m=\u001b[39m transforms\u001b[39m.\u001b[39mToTensor() \n\u001b[0;32m---> 80\u001b[0m tensor \u001b[39m=\u001b[39m transform(image)\n\u001b[1;32m     81\u001b[0m \u001b[39mif\u001b[39;00m \u001b[39mself\u001b[39m\u001b[39m.\u001b[39mtransform:\n\u001b[1;32m     82\u001b[0m     tensor \u001b[39m=\u001b[39m \u001b[39mself\u001b[39m\u001b[39m.\u001b[39mtransform(tensor)\n",
      "File \u001b[0;32m/opt/anaconda3/lib/python3.12/site-packages/torchvision/transforms/transforms.py:137\u001b[0m, in \u001b[0;36mToTensor.__call__\u001b[0;34m(self, pic)\u001b[0m\n\u001b[1;32m    129\u001b[0m \u001b[39mdef\u001b[39;00m \u001b[39m__call__\u001b[39m(\u001b[39mself\u001b[39m, pic):\n\u001b[1;32m    130\u001b[0m \u001b[39m    \u001b[39m\u001b[39m\"\"\"\u001b[39;00m\n\u001b[1;32m    131\u001b[0m \u001b[39m    Args:\u001b[39;00m\n\u001b[1;32m    132\u001b[0m \u001b[39m        pic (PIL Image or numpy.ndarray): Image to be converted to tensor.\u001b[39;00m\n\u001b[0;32m   (...)\u001b[0m\n\u001b[1;32m    135\u001b[0m \u001b[39m        Tensor: Converted image.\u001b[39;00m\n\u001b[1;32m    136\u001b[0m \u001b[39m    \"\"\"\u001b[39;00m\n\u001b[0;32m--> 137\u001b[0m     \u001b[39mreturn\u001b[39;00m F\u001b[39m.\u001b[39mto_tensor(pic)\n",
      "File \u001b[0;32m/opt/anaconda3/lib/python3.12/site-packages/torchvision/transforms/functional.py:172\u001b[0m, in \u001b[0;36mto_tensor\u001b[0;34m(pic)\u001b[0m\n\u001b[1;32m    170\u001b[0m \u001b[39mif\u001b[39;00m pic\u001b[39m.\u001b[39mmode \u001b[39m==\u001b[39m \u001b[39m\"\u001b[39m\u001b[39m1\u001b[39m\u001b[39m\"\u001b[39m:\n\u001b[1;32m    171\u001b[0m     img \u001b[39m=\u001b[39m \u001b[39m255\u001b[39m \u001b[39m*\u001b[39m img\n\u001b[0;32m--> 172\u001b[0m img \u001b[39m=\u001b[39m img\u001b[39m.\u001b[39mview(pic\u001b[39m.\u001b[39msize[\u001b[39m1\u001b[39m], pic\u001b[39m.\u001b[39msize[\u001b[39m0\u001b[39m], F_pil\u001b[39m.\u001b[39mget_image_num_channels(pic))\n\u001b[1;32m    173\u001b[0m \u001b[39m# put it from HWC to CHW format\u001b[39;00m\n\u001b[1;32m    174\u001b[0m img \u001b[39m=\u001b[39m img\u001b[39m.\u001b[39mpermute((\u001b[39m2\u001b[39m, \u001b[39m0\u001b[39m, \u001b[39m1\u001b[39m))\u001b[39m.\u001b[39mcontiguous()\n",
      "\u001b[0;31mKeyboardInterrupt\u001b[0m: "
     ]
    }
   ],
   "source": [
    "device = torch.device(\"cuda\" if torch.cuda.is_available() else \"cpu\")\n",
    "model = FeedForwardNN(input_size=input_size, num_classes=num_classes, hidden_size=288).to(device)\n",
    "criterion = nn.CrossEntropyLoss()  # Suitable for classification tasks\n",
    "optimizer = optim.Adam(model.parameters(), lr=learning_rate)\n",
    "scheduler = ReduceLROnPlateau(optimizer, mode = 'min', factor = .2, patience =10)  # Reduce LR by 10x every 5 epochs\n",
    "best_val_loss = float('inf')\n",
    "patience = 3  # Number of epochs to wait for improvement\n",
    "counter = 0\n",
    "train_model(num_epochs, data_loader, val_loader, device, model, criterion, optimizer, scheduler, patience)"
   ]
  },
  {
   "cell_type": "code",
   "execution_count": null,
   "metadata": {},
   "outputs": [],
   "source": []
  },
  {
   "cell_type": "code",
   "execution_count": null,
   "metadata": {},
   "outputs": [],
   "source": [
    "torch.save(model, \"FeedForward.pth\")"
   ]
  },
  {
   "cell_type": "code",
   "execution_count": 4,
   "metadata": {},
   "outputs": [
    {
     "name": "stdout",
     "output_type": "stream",
     "text": [
      "(0.7323994581800591, 0.7393526405451448, array([[ 21,   0,   0, ...,   0,   5,   0],\n",
      "       [  0,  53,   0, ...,   0,   0,   0],\n",
      "       [  0,   0,  13, ...,   0,   0,   0],\n",
      "       ...,\n",
      "       [  0,   0,   0, ...,   0,   0,   0],\n",
      "       [  0,   0,   0, ...,   0,   5,   0],\n",
      "       [  0,   0,   0, ...,   0,   0, 994]]), 0.7468134050488362, 0.7393526405451448)\n"
     ]
    },
    {
     "name": "stderr",
     "output_type": "stream",
     "text": [
      "/opt/anaconda3/lib/python3.12/site-packages/sklearn/metrics/_classification.py:1531: UndefinedMetricWarning: F-score is ill-defined and being set to 0.0 in labels with no true nor predicted samples. Use `zero_division` parameter to control this behavior.\n",
      "  _warn_prf(average, modifier, f\"{metric.capitalize()} is\", len(result))\n",
      "/opt/anaconda3/lib/python3.12/site-packages/sklearn/metrics/_classification.py:1531: UndefinedMetricWarning: Precision is ill-defined and being set to 0.0 in labels with no predicted samples. Use `zero_division` parameter to control this behavior.\n",
      "  _warn_prf(average, modifier, f\"{metric.capitalize()} is\", len(result))\n",
      "/opt/anaconda3/lib/python3.12/site-packages/sklearn/metrics/_classification.py:1531: UndefinedMetricWarning: Recall is ill-defined and being set to 0.0 in labels with no true samples. Use `zero_division` parameter to control this behavior.\n",
      "  _warn_prf(average, modifier, f\"{metric.capitalize()} is\", len(result))\n",
      "/opt/anaconda3/lib/python3.12/site-packages/sklearn/metrics/_classification.py:1531: UndefinedMetricWarning: F-score is ill-defined and being set to 0.0 in labels with no true nor predicted samples. Use `zero_division` parameter to control this behavior.\n",
      "  _warn_prf(average, modifier, f\"{metric.capitalize()} is\", len(result))\n",
      "/opt/anaconda3/lib/python3.12/site-packages/sklearn/metrics/_classification.py:1531: UndefinedMetricWarning: Precision is ill-defined and being set to 0.0 in labels with no predicted samples. Use `zero_division` parameter to control this behavior.\n",
      "  _warn_prf(average, modifier, f\"{metric.capitalize()} is\", len(result))\n",
      "/opt/anaconda3/lib/python3.12/site-packages/sklearn/metrics/_classification.py:1531: UndefinedMetricWarning: Recall is ill-defined and being set to 0.0 in labels with no true samples. Use `zero_division` parameter to control this behavior.\n",
      "  _warn_prf(average, modifier, f\"{metric.capitalize()} is\", len(result))\n"
     ]
    },
    {
     "data": {
      "text/plain": [
       "(0.7323994581800591,\n",
       " 0.7393526405451448,\n",
       " 0.7468134050488362,\n",
       " 0.7393526405451448)"
      ]
     },
     "execution_count": 4,
     "metadata": {},
     "output_type": "execute_result"
    }
   ],
   "source": [
    "dataset_test = AlphaNumDataset(csv_dir=\"ascii_file_counts.csv\", data_dir=\"test\")\n",
    "data_loader_test = DataLoader(dataset_test, batch_size=batch_size, shuffle=True)\n",
    "test_model_nn(model, data_loader_test, device, criterion)"
   ]
  },
  {
   "cell_type": "code",
   "execution_count": 4,
   "metadata": {},
   "outputs": [
    {
     "name": "stdout",
     "output_type": "stream",
     "text": [
      "Epoch [1/20], Train Loss: 2.3924, Validation Loss: 1.3834, Validation Accuracy: 61.52%\n",
      "Validation loss improved! Saving model...\n",
      "Epoch [2/20], Train Loss: 1.1677, Validation Loss: 1.0250, Validation Accuracy: 70.37%\n",
      "Validation loss improved! Saving model...\n",
      "Epoch [3/20], Train Loss: 0.9171, Validation Loss: 0.8584, Validation Accuracy: 74.36%\n",
      "Validation loss improved! Saving model...\n",
      "Epoch [4/20], Train Loss: 0.7806, Validation Loss: 0.7628, Validation Accuracy: 76.05%\n",
      "Validation loss improved! Saving model...\n",
      "Epoch [5/20], Train Loss: 0.6966, Validation Loss: 0.7090, Validation Accuracy: 78.14%\n",
      "Validation loss improved! Saving model...\n",
      "Epoch [6/20], Train Loss: 0.6422, Validation Loss: 0.6771, Validation Accuracy: 78.42%\n",
      "Validation loss improved! Saving model...\n",
      "Epoch [7/20], Train Loss: 0.5973, Validation Loss: 0.6303, Validation Accuracy: 79.81%\n",
      "Validation loss improved! Saving model...\n",
      "Epoch [8/20], Train Loss: 0.5647, Validation Loss: 0.5993, Validation Accuracy: 80.68%\n",
      "Validation loss improved! Saving model...\n",
      "Epoch [9/20], Train Loss: 0.5387, Validation Loss: 0.6193, Validation Accuracy: 80.34%\n",
      "Validation loss did not improve. Patience: 1/3\n",
      "Epoch [10/20], Train Loss: 0.5157, Validation Loss: 0.6037, Validation Accuracy: 80.44%\n",
      "Validation loss did not improve. Patience: 2/3\n",
      "Epoch [11/20], Train Loss: 0.4995, Validation Loss: 0.5745, Validation Accuracy: 81.35%\n",
      "Validation loss improved! Saving model...\n",
      "Epoch [12/20], Train Loss: 0.4825, Validation Loss: 0.5625, Validation Accuracy: 81.59%\n",
      "Validation loss improved! Saving model...\n",
      "Epoch [13/20], Train Loss: 0.4708, Validation Loss: 0.5520, Validation Accuracy: 82.09%\n",
      "Validation loss improved! Saving model...\n",
      "Epoch [14/20], Train Loss: 0.4571, Validation Loss: 0.5503, Validation Accuracy: 81.89%\n",
      "Validation loss improved! Saving model...\n",
      "Epoch [15/20], Train Loss: 0.4456, Validation Loss: 0.5557, Validation Accuracy: 81.89%\n",
      "Validation loss did not improve. Patience: 1/3\n",
      "Epoch [16/20], Train Loss: 0.4368, Validation Loss: 0.5313, Validation Accuracy: 82.72%\n",
      "Validation loss improved! Saving model...\n",
      "Epoch [17/20], Train Loss: 0.4283, Validation Loss: 0.5493, Validation Accuracy: 82.24%\n",
      "Validation loss did not improve. Patience: 1/3\n",
      "Epoch [18/20], Train Loss: 0.4205, Validation Loss: 0.5342, Validation Accuracy: 82.61%\n",
      "Validation loss did not improve. Patience: 2/3\n",
      "Epoch [19/20], Train Loss: 0.4133, Validation Loss: 0.5317, Validation Accuracy: 82.70%\n",
      "Validation loss did not improve. Patience: 3/3\n",
      "Early stopping triggered!\n"
     ]
    }
   ],
   "source": [
    "device = torch.device(\"cuda\" if torch.cuda.is_available() else \"cpu\")\n",
    "model = CNN(n_classes=num_classes).to(device)\n",
    "criterion = nn.CrossEntropyLoss()  # Suitable for classification tasks\n",
    "optimizer = optim.Adam(model.parameters(), lr=learning_rate)\n",
    "scheduler = ReduceLROnPlateau(optimizer, mode = 'min', factor = .2, patience =10)  # Reduce LR by 10x every 5 epochs\n",
    "best_val_loss = float('inf')\n",
    "patience = 3  # Number of epochs to wait for improvement\n",
    "counter = 0\n",
    "\n",
    "for epoch in range(num_epochs):\n",
    "    # Training step\n",
    "    model.train()\n",
    "    running_loss = 0.0\n",
    "    for images, labels in data_loader:\n",
    "        images, labels = images.to(device), labels.to(device)\n",
    "        outputs = model(images)\n",
    "        loss = criterion(outputs, labels)\n",
    "\n",
    "        optimizer.zero_grad()\n",
    "        loss.backward()\n",
    "        optimizer.step()\n",
    "        running_loss += loss.item()\n",
    "\n",
    "    # Validation step\n",
    "    val_loss, val_accuracy = validate(model, val_loader, criterion, device)\n",
    "\n",
    "    print(f\"Epoch [{epoch+1}/{num_epochs}], Train Loss: {running_loss/len(data_loader):.4f}, \"\n",
    "          f\"Validation Loss: {val_loss:.4f}, Validation Accuracy: {val_accuracy:.2f}%\")\n",
    "\n",
    "    # Early stopping logic\n",
    "    if val_loss < best_val_loss:\n",
    "        best_val_loss = val_loss\n",
    "        counter = 0\n",
    "        print(\"Validation loss improved! Saving model...\")\n",
    "    else:\n",
    "        counter += 1\n",
    "        print(f\"Validation loss did not improve. Patience: {counter}/{patience}\")\n",
    "        if counter >= patience:\n",
    "            print(\"Early stopping triggered!\")\n",
    "            break\n",
    "    scheduler.step(val_loss)"
   ]
  },
  {
   "cell_type": "code",
   "execution_count": 5,
   "metadata": {},
   "outputs": [
    {
     "name": "stderr",
     "output_type": "stream",
     "text": [
      "/opt/anaconda3/lib/python3.12/site-packages/sklearn/metrics/_classification.py:1531: UndefinedMetricWarning: F-score is ill-defined and being set to 0.0 in labels with no true nor predicted samples. Use `zero_division` parameter to control this behavior.\n",
      "  _warn_prf(average, modifier, f\"{metric.capitalize()} is\", len(result))\n",
      "/opt/anaconda3/lib/python3.12/site-packages/sklearn/metrics/_classification.py:1531: UndefinedMetricWarning: Precision is ill-defined and being set to 0.0 in labels with no predicted samples. Use `zero_division` parameter to control this behavior.\n",
      "  _warn_prf(average, modifier, f\"{metric.capitalize()} is\", len(result))\n",
      "/opt/anaconda3/lib/python3.12/site-packages/sklearn/metrics/_classification.py:1531: UndefinedMetricWarning: Recall is ill-defined and being set to 0.0 in labels with no true samples. Use `zero_division` parameter to control this behavior.\n",
      "  _warn_prf(average, modifier, f\"{metric.capitalize()} is\", len(result))\n"
     ]
    },
    {
     "ename": "ValueError",
     "evalue": "too many values to unpack (expected 3)",
     "output_type": "error",
     "traceback": [
      "\u001b[0;31m---------------------------------------------------------------------------\u001b[0m",
      "\u001b[0;31mValueError\u001b[0m                                Traceback (most recent call last)",
      "\u001b[1;32m/Users/jacksonshapiro/Downloads/ML Project/nn.ipynb Cell 8\u001b[0m line \u001b[0;36m1\n\u001b[0;32m----> <a href='vscode-notebook-cell:/Users/jacksonshapiro/Downloads/ML%20Project/nn.ipynb#X10sZmlsZQ%3D%3D?line=0'>1</a>\u001b[0m test_model(model, data_loader_test, device, criterion)\n",
      "File \u001b[0;32m~/Downloads/ML Project/testing_models.py:61\u001b[0m, in \u001b[0;36mtest_model\u001b[0;34m(model, data_loader, device, criterion)\u001b[0m\n\u001b[1;32m     57\u001b[0m avg_loss \u001b[39m=\u001b[39m test_loss \u001b[39m/\u001b[39m \u001b[39mlen\u001b[39m(data_loader)\n\u001b[1;32m     58\u001b[0m accuracy \u001b[39m=\u001b[39m \u001b[39m100\u001b[39m \u001b[39m*\u001b[39m correct \u001b[39m/\u001b[39m total\n\u001b[0;32m---> 61\u001b[0m f1, acc, cm \u001b[39m=\u001b[39m evaluate_model(\u001b[39mstr\u001b[39m(\u001b[39mtype\u001b[39m(model)), all_labels, all_preds, get_ROC_plot\u001b[39m=\u001b[39m\u001b[39mTrue\u001b[39;00m)\n\u001b[1;32m     62\u001b[0m \u001b[39mreturn\u001b[39;00m avg_loss, accuracy, f1, cm\n",
      "\u001b[0;31mValueError\u001b[0m: too many values to unpack (expected 3)"
     ]
    }
   ],
   "source": [
    "test_model(model, data_loader_test, device, criterion)"
   ]
  },
  {
   "cell_type": "code",
   "execution_count": 7,
   "metadata": {},
   "outputs": [],
   "source": [
    "torch.save(model,\"cnn.pth\")"
   ]
  },
  {
   "cell_type": "code",
   "execution_count": 8,
   "metadata": {},
   "outputs": [
    {
     "name": "stdout",
     "output_type": "stream",
     "text": [
      "Epoch [1/20], Train Loss: 2.5150, Validation Loss: 1.3859, Validation Accuracy: 58.39%\n",
      "Validation loss improved! Saving model...\n",
      "Epoch [2/20], Train Loss: 1.0294, Validation Loss: 0.8222, Validation Accuracy: 74.00%\n",
      "Validation loss improved! Saving model...\n",
      "Epoch [3/20], Train Loss: 0.7244, Validation Loss: 0.6830, Validation Accuracy: 77.65%\n",
      "Validation loss improved! Saving model...\n",
      "Epoch [4/20], Train Loss: 0.6022, Validation Loss: 0.6135, Validation Accuracy: 79.57%\n",
      "Validation loss improved! Saving model...\n",
      "Epoch [5/20], Train Loss: 0.5277, Validation Loss: 0.5538, Validation Accuracy: 81.26%\n",
      "Validation loss improved! Saving model...\n",
      "Epoch [6/20], Train Loss: 0.4738, Validation Loss: 0.5067, Validation Accuracy: 82.84%\n",
      "Validation loss improved! Saving model...\n",
      "Epoch [7/20], Train Loss: 0.4351, Validation Loss: 0.4740, Validation Accuracy: 83.70%\n",
      "Validation loss improved! Saving model...\n",
      "Epoch [8/20], Train Loss: 0.3993, Validation Loss: 0.4708, Validation Accuracy: 84.12%\n",
      "Validation loss improved! Saving model...\n",
      "Epoch [9/20], Train Loss: 0.3723, Validation Loss: 0.4508, Validation Accuracy: 84.59%\n",
      "Validation loss improved! Saving model...\n",
      "Epoch [10/20], Train Loss: 0.3459, Validation Loss: 0.4221, Validation Accuracy: 85.25%\n",
      "Validation loss improved! Saving model...\n",
      "Epoch [11/20], Train Loss: 0.3222, Validation Loss: 0.4462, Validation Accuracy: 85.14%\n",
      "Validation loss did not improve. Patience: 1/3\n",
      "Epoch [12/20], Train Loss: 0.3048, Validation Loss: 0.4171, Validation Accuracy: 85.67%\n",
      "Validation loss improved! Saving model...\n",
      "Epoch [13/20], Train Loss: 0.2869, Validation Loss: 0.4199, Validation Accuracy: 85.75%\n",
      "Validation loss did not improve. Patience: 1/3\n",
      "Epoch [14/20], Train Loss: 0.2722, Validation Loss: 0.3967, Validation Accuracy: 86.65%\n",
      "Validation loss improved! Saving model...\n",
      "Epoch [15/20], Train Loss: 0.2556, Validation Loss: 0.4052, Validation Accuracy: 86.35%\n",
      "Validation loss did not improve. Patience: 1/3\n",
      "Epoch [16/20], Train Loss: 0.2437, Validation Loss: 0.4055, Validation Accuracy: 86.57%\n",
      "Validation loss did not improve. Patience: 2/3\n",
      "Epoch [17/20], Train Loss: 0.2284, Validation Loss: 0.4264, Validation Accuracy: 86.00%\n",
      "Validation loss did not improve. Patience: 3/3\n",
      "Early stopping triggered!\n"
     ]
    }
   ],
   "source": [
    "device = torch.device(\"cuda\" if torch.cuda.is_available() else \"cpu\")\n",
    "model = CNN_LSTM(n_classes=num_classes).to(device)\n",
    "criterion = nn.CrossEntropyLoss()  # Suitable for classification tasks\n",
    "optimizer = optim.Adam(model.parameters(), lr=learning_rate)\n",
    "scheduler = ReduceLROnPlateau(optimizer, mode = 'min', factor = .2, patience =10)  # Reduce LR by 10x every 5 epochs\n",
    "best_val_loss = float('inf')\n",
    "patience = 3  # Number of epochs to wait for improvement\n",
    "counter = 0\n",
    "train_model(num_epochs, data_loader, val_loader, device, model, criterion, optimizer, scheduler, patience)"
   ]
  },
  {
   "cell_type": "code",
   "execution_count": null,
   "metadata": {},
   "outputs": [],
   "source": [
    "test_model(model, data_loader_test, device, criterion)"
   ]
  },
  {
   "cell_type": "code",
   "execution_count": null,
   "metadata": {},
   "outputs": [],
   "source": [
    "torch.save(model,\"cnn_lstm.pth\")"
   ]
  },
  {
   "cell_type": "code",
   "execution_count": 3,
   "metadata": {},
   "outputs": [
    {
     "name": "stderr",
     "output_type": "stream",
     "text": [
      "/opt/anaconda3/lib/python3.12/site-packages/torch/nn/modules/transformer.py:379: UserWarning: enable_nested_tensor is True, but self.use_nested_tensor is False because encoder_layer.self_attn.batch_first was not True(use batch_first for better inference performance)\n",
      "  warnings.warn(\n"
     ]
    }
   ],
   "source": [
    "device = torch.device(\"cuda\" if torch.cuda.is_available() else \"cpu\")\n",
    "model = CNNTransformer(n_classes=num_classes).to(device)\n",
    "criterion = nn.CrossEntropyLoss()  # Suitable for classification tasks\n",
    "optimizer = optim.Adam(model.parameters(), lr=learning_rate)\n",
    "scheduler = ReduceLROnPlateau(optimizer, mode = 'min', factor = .2, patience =10)  # Reduce LR by 10x every 5 epochs\n",
    "best_val_loss = float('inf')\n",
    "patience = 3  # Number of epochs to wait for improvement\n",
    "counter = 0\n",
    "#train_model(num_epochs, data_loader, val_loader, device, model, criterion, optimizer, scheduler, patience)"
   ]
  },
  {
   "cell_type": "code",
   "execution_count": null,
   "metadata": {},
   "outputs": [],
   "source": [
    "test_model(model, data_loader_test, device, criterion)"
   ]
  },
  {
   "cell_type": "code",
   "execution_count": null,
   "metadata": {},
   "outputs": [],
   "source": [
    "torch.save(model,\"transformer.pth\")"
   ]
  },
  {
   "cell_type": "code",
   "execution_count": 4,
   "metadata": {},
   "outputs": [
    {
     "name": "stderr",
     "output_type": "stream",
     "text": [
      "/var/folders/92/3_42v5w111v7m641kr368p5c0000gn/T/ipykernel_36113/2581909732.py:1: FutureWarning: You are using `torch.load` with `weights_only=False` (the current default value), which uses the default pickle module implicitly. It is possible to construct malicious pickle data which will execute arbitrary code during unpickling (See https://github.com/pytorch/pytorch/blob/main/SECURITY.md#untrusted-models for more details). In a future release, the default value for `weights_only` will be flipped to `True`. This limits the functions that could be executed during unpickling. Arbitrary objects will no longer be allowed to be loaded via this mode unless they are explicitly allowlisted by the user via `torch.serialization.add_safe_globals`. We recommend you start setting `weights_only=True` for any use case where you don't have full control of the loaded file. Please open an issue on GitHub for any issues related to this experimental feature.\n",
      "  test = torch.load(\"transformer.pth\")\n"
     ]
    },
    {
     "name": "stdout",
     "output_type": "stream",
     "text": [
      "Model: <class 'nn.CNNTransformer'>\n",
      "Accuracy: 0.8664\n",
      "Precision: 0.8689\n",
      "Recall: 0.8664\n",
      "F1 Score: 0.8640\n",
      "Confusion Matrix:\n",
      "[[  40    0    0 ...    0    0    0]\n",
      " [   0   45    0 ...    0    0    0]\n",
      " [   0    0   19 ...    0    0    0]\n",
      " ...\n",
      " [   0    0    0 ...    0    0    0]\n",
      " [   1    0    0 ...    0    9    0]\n",
      " [   0    0    0 ...    0    0 1010]]\n",
      "\n",
      "\n"
     ]
    },
    {
     "name": "stderr",
     "output_type": "stream",
     "text": [
      "/opt/anaconda3/lib/python3.12/site-packages/sklearn/metrics/_classification.py:1531: UndefinedMetricWarning: F-score is ill-defined and being set to 0.0 in labels with no true nor predicted samples. Use `zero_division` parameter to control this behavior.\n",
      "  _warn_prf(average, modifier, f\"{metric.capitalize()} is\", len(result))\n",
      "/opt/anaconda3/lib/python3.12/site-packages/sklearn/metrics/_classification.py:1531: UndefinedMetricWarning: Precision is ill-defined and being set to 0.0 in labels with no predicted samples. Use `zero_division` parameter to control this behavior.\n",
      "  _warn_prf(average, modifier, f\"{metric.capitalize()} is\", len(result))\n",
      "/opt/anaconda3/lib/python3.12/site-packages/sklearn/metrics/_classification.py:1531: UndefinedMetricWarning: Recall is ill-defined and being set to 0.0 in labels with no true samples. Use `zero_division` parameter to control this behavior.\n",
      "  _warn_prf(average, modifier, f\"{metric.capitalize()} is\", len(result))\n"
     ]
    },
    {
     "data": {
      "text/plain": [
       "(0.391109123322017,\n",
       " 86.64303144712004,\n",
       " 0.8639561695556224,\n",
       " array([[  40,    0,    0, ...,    0,    0,    0],\n",
       "        [   0,   45,    0, ...,    0,    0,    0],\n",
       "        [   0,    0,   19, ...,    0,    0,    0],\n",
       "        ...,\n",
       "        [   0,    0,    0, ...,    0,    0,    0],\n",
       "        [   1,    0,    0, ...,    0,    9,    0],\n",
       "        [   0,    0,    0, ...,    0,    0, 1010]]))"
      ]
     },
     "execution_count": 4,
     "metadata": {},
     "output_type": "execute_result"
    }
   ],
   "source": [
    "test = torch.load(\"transformer.pth\")\n",
    "test_model(test,data_loader_test, device, criterion)"
   ]
  },
  {
   "cell_type": "code",
   "execution_count": null,
   "metadata": {},
   "outputs": [],
   "source": []
  }
 ],
 "metadata": {
  "kernelspec": {
   "display_name": "Python 3",
   "language": "python",
   "name": "python3"
  },
  "language_info": {
   "codemirror_mode": {
    "name": "ipython",
    "version": 3
   },
   "file_extension": ".py",
   "mimetype": "text/x-python",
   "name": "python",
   "nbconvert_exporter": "python",
   "pygments_lexer": "ipython3",
   "version": "3.12.7"
  },
  "orig_nbformat": 4
 },
 "nbformat": 4,
 "nbformat_minor": 2
}
