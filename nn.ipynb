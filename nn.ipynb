{
 "cells": [
  {
   "cell_type": "code",
   "execution_count": 1,
   "metadata": {},
   "outputs": [],
   "source": [
    "from nn import * \n",
    "from testing_models import test_model\n",
    "from torch.optim.lr_scheduler import ReduceLROnPlateau"
   ]
  },
  {
   "cell_type": "code",
   "execution_count": 2,
   "metadata": {},
   "outputs": [],
   "source": [
    "input_size = 28 * 28  # Flattened image size (28x28)\n",
    "num_classes = 93  # Number of classes (modify if needed)\n",
    "learning_rate = 0.001\n",
    "num_epochs = 20\n",
    "batch_size = 64\n",
    "set_seed(42)\n",
    "\n",
    "dataset = AlphaNumDataset(csv_dir=\"ascii_file_counts.csv\", data_dir=\"train\")\n",
    "data_loader = DataLoader(dataset, batch_size=batch_size, shuffle=True)\n",
    "dataset_test = AlphaNumDataset(csv_dir=\"ascii_file_counts.csv\", data_dir=\"test\")\n",
    "data_loader_test = DataLoader(dataset_test, batch_size=batch_size, shuffle=True)\n",
    "val_dataset = AlphaNumDataset(csv_dir=\"ascii_file_counts.csv\", data_dir=\"validation\")\n",
    "val_loader = DataLoader(val_dataset, batch_size=batch_size, shuffle=True)\n",
    "\n",
    "\n"
   ]
  },
  {
   "cell_type": "code",
   "execution_count": null,
   "metadata": {},
   "outputs": [],
   "source": [
    "# Model, Loss, and Optimizer\n",
    "device = torch.device(\"cuda\" if torch.cuda.is_available() else \"cpu\")\n",
    "model = FeedForwardNN(input_size=input_size, num_classes=num_classes, hidden_size=288).to(device)\n",
    "criterion = nn.CrossEntropyLoss()  # Suitable for classification tasks\n",
    "optimizer = optim.Adam(model.parameters(), lr=learning_rate)\n",
    "scheduler = ReduceLROnPlateau(optimizer, mode = 'min', factor = .2, patience =10)  # Reduce LR by 10x every 5 epochs\n",
    "best_val_loss = float('inf')\n",
    "patience = 3  # Number of epochs to wait for improvement\n",
    "counter = 0\n",
    "\n",
    "for epoch in range(num_epochs):\n",
    "    # Training step\n",
    "    model.train()\n",
    "    running_loss = 0.0\n",
    "    for images, labels in data_loader:\n",
    "        images, labels = images.to(device), labels.to(device)\n",
    "        outputs = model(images)\n",
    "        loss = criterion(outputs, labels)\n",
    "\n",
    "        optimizer.zero_grad()\n",
    "        loss.backward()\n",
    "        optimizer.step()\n",
    "        running_loss += loss.item()\n",
    "\n",
    "    # Validation step\n",
    "    val_loss, val_accuracy = validate(model, val_loader, criterion, device)\n",
    "\n",
    "    print(f\"Epoch [{epoch+1}/{num_epochs}], Train Loss: {running_loss/len(data_loader):.4f}, \"\n",
    "          f\"Validation Loss: {val_loss:.4f}, Validation Accuracy: {val_accuracy:.2f}%\")\n",
    "\n",
    "    # Early stopping logic\n",
    "    if val_loss < best_val_loss:\n",
    "        best_val_loss = val_loss\n",
    "        counter = 0\n",
    "        print(\"Validation loss improved! Saving model...\")\n",
    "    else:\n",
    "        counter += 1\n",
    "        print(f\"Validation loss did not improve. Patience: {counter}/{patience}\")\n",
    "        if counter >= patience:\n",
    "            print(\"Early stopping triggered!\")\n",
    "            break\n",
    "    scheduler.step(val_loss)"
   ]
  },
  {
   "cell_type": "code",
   "execution_count": null,
   "metadata": {},
   "outputs": [],
   "source": [
    "device = torch.device(\"cuda\" if torch.cuda.is_available() else \"cpu\")\n",
    "model = FeedForwardNN(input_size=input_size, num_classes=num_classes, hidden_size=288).to(device)\n",
    "criterion = nn.CrossEntropyLoss()  # Suitable for classification tasks\n",
    "optimizer = optim.Adam(model.parameters(), lr=learning_rate)\n",
    "scheduler = ReduceLROnPlateau(optimizer, mode = 'min', factor = .2, patience =10)  # Reduce LR by 10x every 5 epochs\n",
    "best_val_loss = float('inf')\n",
    "patience = 3  # Number of epochs to wait for improvement\n",
    "counter = 0\n",
    "train_model(num_epochs, data_loader, val_loader, device, model, criterion, optimizer, scheduler, patience)"
   ]
  },
  {
   "cell_type": "code",
   "execution_count": null,
   "metadata": {},
   "outputs": [],
   "source": [
    "torch.save(model, \"FeedForward.pth\")"
   ]
  },
  {
   "cell_type": "code",
   "execution_count": null,
   "metadata": {},
   "outputs": [],
   "source": [
    "dataset_test = AlphaNumDataset(csv_dir=\"ascii_file_counts.csv\", data_dir=\"test\")\n",
    "data_loader_test = DataLoader(dataset_test, batch_size=batch_size, shuffle=True)\n",
    "test_model(model, data_loader_test, device, criterion)"
   ]
  },
  {
   "cell_type": "code",
   "execution_count": 4,
   "metadata": {},
   "outputs": [
    {
     "name": "stdout",
     "output_type": "stream",
     "text": [
      "Epoch [1/20], Train Loss: 2.3924, Validation Loss: 1.3834, Validation Accuracy: 61.52%\n",
      "Validation loss improved! Saving model...\n",
      "Epoch [2/20], Train Loss: 1.1677, Validation Loss: 1.0250, Validation Accuracy: 70.37%\n",
      "Validation loss improved! Saving model...\n",
      "Epoch [3/20], Train Loss: 0.9171, Validation Loss: 0.8584, Validation Accuracy: 74.36%\n",
      "Validation loss improved! Saving model...\n",
      "Epoch [4/20], Train Loss: 0.7806, Validation Loss: 0.7628, Validation Accuracy: 76.05%\n",
      "Validation loss improved! Saving model...\n",
      "Epoch [5/20], Train Loss: 0.6966, Validation Loss: 0.7090, Validation Accuracy: 78.14%\n",
      "Validation loss improved! Saving model...\n",
      "Epoch [6/20], Train Loss: 0.6422, Validation Loss: 0.6771, Validation Accuracy: 78.42%\n",
      "Validation loss improved! Saving model...\n",
      "Epoch [7/20], Train Loss: 0.5973, Validation Loss: 0.6303, Validation Accuracy: 79.81%\n",
      "Validation loss improved! Saving model...\n",
      "Epoch [8/20], Train Loss: 0.5647, Validation Loss: 0.5993, Validation Accuracy: 80.68%\n",
      "Validation loss improved! Saving model...\n",
      "Epoch [9/20], Train Loss: 0.5387, Validation Loss: 0.6193, Validation Accuracy: 80.34%\n",
      "Validation loss did not improve. Patience: 1/3\n",
      "Epoch [10/20], Train Loss: 0.5157, Validation Loss: 0.6037, Validation Accuracy: 80.44%\n",
      "Validation loss did not improve. Patience: 2/3\n",
      "Epoch [11/20], Train Loss: 0.4995, Validation Loss: 0.5745, Validation Accuracy: 81.35%\n",
      "Validation loss improved! Saving model...\n",
      "Epoch [12/20], Train Loss: 0.4825, Validation Loss: 0.5625, Validation Accuracy: 81.59%\n",
      "Validation loss improved! Saving model...\n",
      "Epoch [13/20], Train Loss: 0.4708, Validation Loss: 0.5520, Validation Accuracy: 82.09%\n",
      "Validation loss improved! Saving model...\n",
      "Epoch [14/20], Train Loss: 0.4571, Validation Loss: 0.5503, Validation Accuracy: 81.89%\n",
      "Validation loss improved! Saving model...\n",
      "Epoch [15/20], Train Loss: 0.4456, Validation Loss: 0.5557, Validation Accuracy: 81.89%\n",
      "Validation loss did not improve. Patience: 1/3\n",
      "Epoch [16/20], Train Loss: 0.4368, Validation Loss: 0.5313, Validation Accuracy: 82.72%\n",
      "Validation loss improved! Saving model...\n",
      "Epoch [17/20], Train Loss: 0.4283, Validation Loss: 0.5493, Validation Accuracy: 82.24%\n",
      "Validation loss did not improve. Patience: 1/3\n",
      "Epoch [18/20], Train Loss: 0.4205, Validation Loss: 0.5342, Validation Accuracy: 82.61%\n",
      "Validation loss did not improve. Patience: 2/3\n",
      "Epoch [19/20], Train Loss: 0.4133, Validation Loss: 0.5317, Validation Accuracy: 82.70%\n",
      "Validation loss did not improve. Patience: 3/3\n",
      "Early stopping triggered!\n"
     ]
    }
   ],
   "source": [
    "device = torch.device(\"cuda\" if torch.cuda.is_available() else \"cpu\")\n",
    "model = CNN(n_classes=num_classes).to(device)\n",
    "criterion = nn.CrossEntropyLoss()  # Suitable for classification tasks\n",
    "optimizer = optim.Adam(model.parameters(), lr=learning_rate)\n",
    "scheduler = ReduceLROnPlateau(optimizer, mode = 'min', factor = .2, patience =10)  # Reduce LR by 10x every 5 epochs\n",
    "best_val_loss = float('inf')\n",
    "patience = 3  # Number of epochs to wait for improvement\n",
    "counter = 0\n",
    "\n",
    "for epoch in range(num_epochs):\n",
    "    # Training step\n",
    "    model.train()\n",
    "    running_loss = 0.0\n",
    "    for images, labels in data_loader:\n",
    "        images, labels = images.to(device), labels.to(device)\n",
    "        outputs = model(images)\n",
    "        loss = criterion(outputs, labels)\n",
    "\n",
    "        optimizer.zero_grad()\n",
    "        loss.backward()\n",
    "        optimizer.step()\n",
    "        running_loss += loss.item()\n",
    "\n",
    "    # Validation step\n",
    "    val_loss, val_accuracy = validate(model, val_loader, criterion, device)\n",
    "\n",
    "    print(f\"Epoch [{epoch+1}/{num_epochs}], Train Loss: {running_loss/len(data_loader):.4f}, \"\n",
    "          f\"Validation Loss: {val_loss:.4f}, Validation Accuracy: {val_accuracy:.2f}%\")\n",
    "\n",
    "    # Early stopping logic\n",
    "    if val_loss < best_val_loss:\n",
    "        best_val_loss = val_loss\n",
    "        counter = 0\n",
    "        print(\"Validation loss improved! Saving model...\")\n",
    "    else:\n",
    "        counter += 1\n",
    "        print(f\"Validation loss did not improve. Patience: {counter}/{patience}\")\n",
    "        if counter >= patience:\n",
    "            print(\"Early stopping triggered!\")\n",
    "            break\n",
    "    scheduler.step(val_loss)"
   ]
  },
  {
   "cell_type": "code",
   "execution_count": 5,
   "metadata": {},
   "outputs": [
    {
     "name": "stderr",
     "output_type": "stream",
     "text": [
      "/opt/anaconda3/lib/python3.12/site-packages/sklearn/metrics/_classification.py:1531: UndefinedMetricWarning: F-score is ill-defined and being set to 0.0 in labels with no true nor predicted samples. Use `zero_division` parameter to control this behavior.\n",
      "  _warn_prf(average, modifier, f\"{metric.capitalize()} is\", len(result))\n",
      "/opt/anaconda3/lib/python3.12/site-packages/sklearn/metrics/_classification.py:1531: UndefinedMetricWarning: Precision is ill-defined and being set to 0.0 in labels with no predicted samples. Use `zero_division` parameter to control this behavior.\n",
      "  _warn_prf(average, modifier, f\"{metric.capitalize()} is\", len(result))\n",
      "/opt/anaconda3/lib/python3.12/site-packages/sklearn/metrics/_classification.py:1531: UndefinedMetricWarning: Recall is ill-defined and being set to 0.0 in labels with no true samples. Use `zero_division` parameter to control this behavior.\n",
      "  _warn_prf(average, modifier, f\"{metric.capitalize()} is\", len(result))\n"
     ]
    },
    {
     "ename": "ValueError",
     "evalue": "too many values to unpack (expected 3)",
     "output_type": "error",
     "traceback": [
      "\u001b[0;31m---------------------------------------------------------------------------\u001b[0m",
      "\u001b[0;31mValueError\u001b[0m                                Traceback (most recent call last)",
      "\u001b[1;32m/Users/jacksonshapiro/Downloads/ML Project/nn.ipynb Cell 8\u001b[0m line \u001b[0;36m1\n\u001b[0;32m----> <a href='vscode-notebook-cell:/Users/jacksonshapiro/Downloads/ML%20Project/nn.ipynb#X10sZmlsZQ%3D%3D?line=0'>1</a>\u001b[0m test_model(model, data_loader_test, device, criterion)\n",
      "File \u001b[0;32m~/Downloads/ML Project/testing_models.py:61\u001b[0m, in \u001b[0;36mtest_model\u001b[0;34m(model, data_loader, device, criterion)\u001b[0m\n\u001b[1;32m     57\u001b[0m avg_loss \u001b[39m=\u001b[39m test_loss \u001b[39m/\u001b[39m \u001b[39mlen\u001b[39m(data_loader)\n\u001b[1;32m     58\u001b[0m accuracy \u001b[39m=\u001b[39m \u001b[39m100\u001b[39m \u001b[39m*\u001b[39m correct \u001b[39m/\u001b[39m total\n\u001b[0;32m---> 61\u001b[0m f1, acc, cm \u001b[39m=\u001b[39m evaluate_model(\u001b[39mstr\u001b[39m(\u001b[39mtype\u001b[39m(model)), all_labels, all_preds, get_ROC_plot\u001b[39m=\u001b[39m\u001b[39mTrue\u001b[39;00m)\n\u001b[1;32m     62\u001b[0m \u001b[39mreturn\u001b[39;00m avg_loss, accuracy, f1, cm\n",
      "\u001b[0;31mValueError\u001b[0m: too many values to unpack (expected 3)"
     ]
    }
   ],
   "source": [
    "test_model(model, data_loader_test, device, criterion)"
   ]
  },
  {
   "cell_type": "code",
   "execution_count": null,
   "metadata": {},
   "outputs": [],
   "source": [
    "torch.save(model,\"transformer.pth\")"
   ]
  },
  {
   "cell_type": "code",
   "execution_count": null,
   "metadata": {},
   "outputs": [],
   "source": [
    "device = torch.device(\"cuda\" if torch.cuda.is_available() else \"cpu\")\n",
    "model = CNN_LSTM(n_classes=num_classes).to(device)\n",
    "criterion = nn.CrossEntropyLoss()  # Suitable for classification tasks\n",
    "optimizer = optim.Adam(model.parameters(), lr=learning_rate)\n",
    "scheduler = ReduceLROnPlateau(optimizer, mode = 'min', factor = .2, patience =10)  # Reduce LR by 10x every 5 epochs\n",
    "best_val_loss = float('inf')\n",
    "patience = 3  # Number of epochs to wait for improvement\n",
    "counter = 0\n",
    "train_model(num_epochs, data_loader, val_loader, device, model, criterion, optimizer, scheduler, patience)"
   ]
  },
  {
   "cell_type": "code",
   "execution_count": null,
   "metadata": {},
   "outputs": [],
   "source": [
    "test_model(model, data_loader_test, device, criterion)"
   ]
  },
  {
   "cell_type": "code",
   "execution_count": 3,
   "metadata": {},
   "outputs": [
    {
     "name": "stderr",
     "output_type": "stream",
     "text": [
      "/opt/anaconda3/lib/python3.12/site-packages/torch/nn/modules/transformer.py:379: UserWarning: enable_nested_tensor is True, but self.use_nested_tensor is False because encoder_layer.self_attn.batch_first was not True(use batch_first for better inference performance)\n",
      "  warnings.warn(\n"
     ]
    }
   ],
   "source": [
    "device = torch.device(\"cuda\" if torch.cuda.is_available() else \"cpu\")\n",
    "model = CNNTransformer(n_classes=num_classes).to(device)\n",
    "criterion = nn.CrossEntropyLoss()  # Suitable for classification tasks\n",
    "optimizer = optim.Adam(model.parameters(), lr=learning_rate)\n",
    "scheduler = ReduceLROnPlateau(optimizer, mode = 'min', factor = .2, patience =10)  # Reduce LR by 10x every 5 epochs\n",
    "best_val_loss = float('inf')\n",
    "patience = 3  # Number of epochs to wait for improvement\n",
    "counter = 0\n",
    "#train_model(num_epochs, data_loader, val_loader, device, model, criterion, optimizer, scheduler, patience)"
   ]
  },
  {
   "cell_type": "code",
   "execution_count": null,
   "metadata": {},
   "outputs": [],
   "source": [
    "test_model(model, data_loader_test, device, criterion)"
   ]
  },
  {
   "cell_type": "code",
   "execution_count": null,
   "metadata": {},
   "outputs": [],
   "source": [
    "torch.save(model,\"transformer.pth\")"
   ]
  },
  {
   "cell_type": "code",
   "execution_count": 4,
   "metadata": {},
   "outputs": [
    {
     "name": "stderr",
     "output_type": "stream",
     "text": [
      "/var/folders/92/3_42v5w111v7m641kr368p5c0000gn/T/ipykernel_36113/2581909732.py:1: FutureWarning: You are using `torch.load` with `weights_only=False` (the current default value), which uses the default pickle module implicitly. It is possible to construct malicious pickle data which will execute arbitrary code during unpickling (See https://github.com/pytorch/pytorch/blob/main/SECURITY.md#untrusted-models for more details). In a future release, the default value for `weights_only` will be flipped to `True`. This limits the functions that could be executed during unpickling. Arbitrary objects will no longer be allowed to be loaded via this mode unless they are explicitly allowlisted by the user via `torch.serialization.add_safe_globals`. We recommend you start setting `weights_only=True` for any use case where you don't have full control of the loaded file. Please open an issue on GitHub for any issues related to this experimental feature.\n",
      "  test = torch.load(\"transformer.pth\")\n"
     ]
    },
    {
     "name": "stdout",
     "output_type": "stream",
     "text": [
      "Model: <class 'nn.CNNTransformer'>\n",
      "Accuracy: 0.8664\n",
      "Precision: 0.8689\n",
      "Recall: 0.8664\n",
      "F1 Score: 0.8640\n",
      "Confusion Matrix:\n",
      "[[  40    0    0 ...    0    0    0]\n",
      " [   0   45    0 ...    0    0    0]\n",
      " [   0    0   19 ...    0    0    0]\n",
      " ...\n",
      " [   0    0    0 ...    0    0    0]\n",
      " [   1    0    0 ...    0    9    0]\n",
      " [   0    0    0 ...    0    0 1010]]\n",
      "\n",
      "\n"
     ]
    },
    {
     "name": "stderr",
     "output_type": "stream",
     "text": [
      "/opt/anaconda3/lib/python3.12/site-packages/sklearn/metrics/_classification.py:1531: UndefinedMetricWarning: F-score is ill-defined and being set to 0.0 in labels with no true nor predicted samples. Use `zero_division` parameter to control this behavior.\n",
      "  _warn_prf(average, modifier, f\"{metric.capitalize()} is\", len(result))\n",
      "/opt/anaconda3/lib/python3.12/site-packages/sklearn/metrics/_classification.py:1531: UndefinedMetricWarning: Precision is ill-defined and being set to 0.0 in labels with no predicted samples. Use `zero_division` parameter to control this behavior.\n",
      "  _warn_prf(average, modifier, f\"{metric.capitalize()} is\", len(result))\n",
      "/opt/anaconda3/lib/python3.12/site-packages/sklearn/metrics/_classification.py:1531: UndefinedMetricWarning: Recall is ill-defined and being set to 0.0 in labels with no true samples. Use `zero_division` parameter to control this behavior.\n",
      "  _warn_prf(average, modifier, f\"{metric.capitalize()} is\", len(result))\n"
     ]
    },
    {
     "data": {
      "text/plain": [
       "(0.391109123322017,\n",
       " 86.64303144712004,\n",
       " 0.8639561695556224,\n",
       " array([[  40,    0,    0, ...,    0,    0,    0],\n",
       "        [   0,   45,    0, ...,    0,    0,    0],\n",
       "        [   0,    0,   19, ...,    0,    0,    0],\n",
       "        ...,\n",
       "        [   0,    0,    0, ...,    0,    0,    0],\n",
       "        [   1,    0,    0, ...,    0,    9,    0],\n",
       "        [   0,    0,    0, ...,    0,    0, 1010]]))"
      ]
     },
     "execution_count": 4,
     "metadata": {},
     "output_type": "execute_result"
    }
   ],
   "source": [
    "test = torch.load(\"transformer.pth\")\n",
    "test_model(test,data_loader_test, device, criterion)"
   ]
  },
  {
   "cell_type": "code",
   "execution_count": null,
   "metadata": {},
   "outputs": [],
   "source": []
  }
 ],
 "metadata": {
  "kernelspec": {
   "display_name": "Python 3",
   "language": "python",
   "name": "python3"
  },
  "language_info": {
   "codemirror_mode": {
    "name": "ipython",
    "version": 3
   },
   "file_extension": ".py",
   "mimetype": "text/x-python",
   "name": "python",
   "nbconvert_exporter": "python",
   "pygments_lexer": "ipython3",
   "version": "3.12.7"
  },
  "orig_nbformat": 4
 },
 "nbformat": 4,
 "nbformat_minor": 2
}
