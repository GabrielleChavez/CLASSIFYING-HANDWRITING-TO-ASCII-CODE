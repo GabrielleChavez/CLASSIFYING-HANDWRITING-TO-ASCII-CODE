{
 "cells": [
  {
   "cell_type": "code",
   "execution_count": 1,
   "metadata": {},
   "outputs": [],
   "source": [
    "import torch\n",
    "import torch.nn as nn\n",
    "import torch.optim as optim\n",
    "from torch.utils.data import DataLoader\n",
    "from torchvision import transforms\n",
    "import pandas as pd\n",
    "from PIL import Image\n",
    "import os\n",
    "from torch.utils.data import Dataset\n",
    "from nn import CustomImageDataset, FeedForwardNN, test_model, validate, CNN\n",
    "from torch.optim.lr_scheduler import ReduceLROnPlateau\n"
   ]
  },
  {
   "cell_type": "code",
   "execution_count": 2,
   "metadata": {},
   "outputs": [],
   "source": [
    "input_size = 28 * 28  # Flattened image size (28x28)\n",
    "num_classes = 94  # Number of classes (modify if needed)\n",
    "learning_rate = 0.001\n",
    "num_epochs = 20\n",
    "batch_size = 64\n",
    "\n",
    "dataset = CustomImageDataset(csv_dir=\"ascii_file_counts.csv\", data_dir=\"train\")\n",
    "data_loader = DataLoader(dataset, batch_size=batch_size, shuffle=True)\n",
    "dataset_test = CustomImageDataset(csv_dir=\"ascii_file_counts.csv\", data_dir=\"test\")\n",
    "data_loader_test = DataLoader(dataset_test, batch_size=batch_size, shuffle=True)\n",
    "val_dataset = CustomImageDataset(csv_dir=\"ascii_file_counts.csv\", data_dir=\"validation\")\n",
    "val_loader = DataLoader(val_dataset, batch_size=batch_size, shuffle=True)\n",
    "\n"
   ]
  },
  {
   "cell_type": "code",
   "execution_count": 10,
   "metadata": {},
   "outputs": [
    {
     "name": "stdout",
     "output_type": "stream",
     "text": [
      "Epoch [1/20], Train Loss: 2.7498, Validation Loss: 1.9117, Validation Accuracy: 46.92%\n",
      "Validation loss improved! Saving model...\n",
      "Epoch [2/20], Train Loss: 1.6994, Validation Loss: 1.5619, Validation Accuracy: 55.33%\n",
      "Validation loss improved! Saving model...\n",
      "Epoch [3/20], Train Loss: 1.4310, Validation Loss: 1.3562, Validation Accuracy: 61.00%\n",
      "Validation loss improved! Saving model...\n",
      "Epoch [4/20], Train Loss: 1.2546, Validation Loss: 1.2032, Validation Accuracy: 64.62%\n",
      "Validation loss improved! Saving model...\n",
      "Epoch [5/20], Train Loss: 1.1320, Validation Loss: 1.1827, Validation Accuracy: 65.64%\n",
      "Validation loss improved! Saving model...\n",
      "Epoch [6/20], Train Loss: 1.0490, Validation Loss: 1.1513, Validation Accuracy: 66.40%\n",
      "Validation loss improved! Saving model...\n",
      "Epoch [7/20], Train Loss: 0.9924, Validation Loss: 1.0263, Validation Accuracy: 69.87%\n",
      "Validation loss improved! Saving model...\n",
      "Epoch [8/20], Train Loss: 0.9380, Validation Loss: 0.9554, Validation Accuracy: 71.20%\n",
      "Validation loss improved! Saving model...\n",
      "Epoch [9/20], Train Loss: 0.9017, Validation Loss: 0.9445, Validation Accuracy: 71.94%\n",
      "Validation loss improved! Saving model...\n",
      "Epoch [10/20], Train Loss: 0.8662, Validation Loss: 1.0224, Validation Accuracy: 69.97%\n",
      "Validation loss did not improve. Patience: 1/3\n",
      "Epoch [11/20], Train Loss: 0.8357, Validation Loss: 0.9190, Validation Accuracy: 72.10%\n",
      "Validation loss improved! Saving model...\n",
      "Epoch [12/20], Train Loss: 0.8122, Validation Loss: 0.9165, Validation Accuracy: 72.40%\n",
      "Validation loss improved! Saving model...\n",
      "Epoch [13/20], Train Loss: 0.7894, Validation Loss: 0.8730, Validation Accuracy: 73.49%\n",
      "Validation loss improved! Saving model...\n",
      "Epoch [14/20], Train Loss: 0.7541, Validation Loss: 0.8567, Validation Accuracy: 74.18%\n",
      "Validation loss improved! Saving model...\n",
      "Epoch [15/20], Train Loss: 0.7418, Validation Loss: 0.8225, Validation Accuracy: 75.00%\n",
      "Validation loss improved! Saving model...\n",
      "Epoch [16/20], Train Loss: 0.7314, Validation Loss: 0.7766, Validation Accuracy: 76.70%\n",
      "Validation loss improved! Saving model...\n",
      "Epoch [17/20], Train Loss: 0.7061, Validation Loss: 0.8177, Validation Accuracy: 74.94%\n",
      "Validation loss did not improve. Patience: 1/3\n",
      "Epoch [18/20], Train Loss: 0.6950, Validation Loss: 0.8043, Validation Accuracy: 75.65%\n",
      "Validation loss did not improve. Patience: 2/3\n",
      "Epoch [19/20], Train Loss: 0.6860, Validation Loss: 0.7688, Validation Accuracy: 76.58%\n",
      "Validation loss improved! Saving model...\n",
      "Epoch [20/20], Train Loss: 0.6680, Validation Loss: 0.8055, Validation Accuracy: 75.92%\n",
      "Validation loss did not improve. Patience: 1/3\n"
     ]
    }
   ],
   "source": [
    "# Model, Loss, and Optimizer\n",
    "device = torch.device(\"cuda\" if torch.cuda.is_available() else \"cpu\")\n",
    "model = FeedForwardNN(input_size=input_size, num_classes=num_classes, hidden_size=288).to(device)\n",
    "criterion = nn.CrossEntropyLoss()  # Suitable for classification tasks\n",
    "optimizer = optim.Adam(model.parameters(), lr=learning_rate)\n",
    "scheduler = ReduceLROnPlateau(optimizer, mode = 'min', factor = .2, patience =10)  # Reduce LR by 10x every 5 epochs\n",
    "best_val_loss = float('inf')\n",
    "patience = 3  # Number of epochs to wait for improvement\n",
    "counter = 0\n",
    "\n",
    "for epoch in range(num_epochs):\n",
    "    # Training step\n",
    "    model.train()\n",
    "    running_loss = 0.0\n",
    "    for images, labels in data_loader:\n",
    "        images, labels = images.to(device), labels.to(device)\n",
    "        outputs = model(images)\n",
    "        loss = criterion(outputs, labels)\n",
    "\n",
    "        optimizer.zero_grad()\n",
    "        loss.backward()\n",
    "        optimizer.step()\n",
    "        running_loss += loss.item()\n",
    "\n",
    "    # Validation step\n",
    "    val_loss, val_accuracy = validate(model, val_loader, criterion, device)\n",
    "\n",
    "    print(f\"Epoch [{epoch+1}/{num_epochs}], Train Loss: {running_loss/len(data_loader):.4f}, \"\n",
    "          f\"Validation Loss: {val_loss:.4f}, Validation Accuracy: {val_accuracy:.2f}%\")\n",
    "\n",
    "    # Early stopping logic\n",
    "    if val_loss < best_val_loss:\n",
    "        best_val_loss = val_loss\n",
    "        counter = 0\n",
    "        print(\"Validation loss improved! Saving model...\")\n",
    "    else:\n",
    "        counter += 1\n",
    "        print(f\"Validation loss did not improve. Patience: {counter}/{patience}\")\n",
    "        if counter >= patience:\n",
    "            print(\"Early stopping triggered!\")\n",
    "            break\n",
    "    scheduler.step(val_loss)"
   ]
  },
  {
   "cell_type": "code",
   "execution_count": 11,
   "metadata": {},
   "outputs": [
    {
     "name": "stdout",
     "output_type": "stream",
     "text": [
      "Test Loss: 0.7740, Test Accuracy: 76.05%\n"
     ]
    }
   ],
   "source": [
    "dataset_test = CustomImageDataset(csv_dir=\"ascii_file_counts.csv\", data_dir=\"test\")\n",
    "data_loader_test = DataLoader(dataset_test, batch_size=batch_size, shuffle=True)\n",
    "test_model(model, data_loader_test, device, criterion)"
   ]
  },
  {
   "cell_type": "code",
   "execution_count": 4,
   "metadata": {},
   "outputs": [
    {
     "name": "stdout",
     "output_type": "stream",
     "text": [
      "Epoch [1/20], Train Loss: 2.0613, Validation Loss: 1.3183, Validation Accuracy: 62.37%\n",
      "Validation loss improved! Saving model...\n",
      "Epoch [2/20], Train Loss: 1.0521, Validation Loss: 0.9128, Validation Accuracy: 72.68%\n",
      "Validation loss improved! Saving model...\n",
      "Epoch [3/20], Train Loss: 0.7994, Validation Loss: 0.7949, Validation Accuracy: 76.06%\n",
      "Validation loss improved! Saving model...\n",
      "Epoch [4/20], Train Loss: 0.6992, Validation Loss: 0.7041, Validation Accuracy: 78.04%\n",
      "Validation loss improved! Saving model...\n",
      "Epoch [5/20], Train Loss: 0.6394, Validation Loss: 0.6568, Validation Accuracy: 79.64%\n",
      "Validation loss improved! Saving model...\n",
      "Epoch [6/20], Train Loss: 0.5981, Validation Loss: 0.6380, Validation Accuracy: 79.73%\n",
      "Validation loss improved! Saving model...\n",
      "Epoch [7/20], Train Loss: 0.5668, Validation Loss: 0.6233, Validation Accuracy: 80.53%\n",
      "Validation loss improved! Saving model...\n",
      "Epoch [8/20], Train Loss: 0.5404, Validation Loss: 0.5938, Validation Accuracy: 80.95%\n",
      "Validation loss improved! Saving model...\n",
      "Epoch [9/20], Train Loss: 0.5202, Validation Loss: 0.5903, Validation Accuracy: 81.36%\n",
      "Validation loss improved! Saving model...\n",
      "Epoch [10/20], Train Loss: 0.4998, Validation Loss: 0.5757, Validation Accuracy: 81.62%\n",
      "Validation loss improved! Saving model...\n",
      "Epoch [11/20], Train Loss: 0.4814, Validation Loss: 0.5602, Validation Accuracy: 81.89%\n",
      "Validation loss improved! Saving model...\n",
      "Epoch [12/20], Train Loss: 0.4669, Validation Loss: 0.5451, Validation Accuracy: 82.41%\n",
      "Validation loss improved! Saving model...\n",
      "Epoch [13/20], Train Loss: 0.4543, Validation Loss: 0.5429, Validation Accuracy: 82.51%\n",
      "Validation loss improved! Saving model...\n",
      "Epoch [14/20], Train Loss: 0.4445, Validation Loss: 0.5568, Validation Accuracy: 82.01%\n",
      "Validation loss did not improve. Patience: 1/3\n",
      "Epoch [15/20], Train Loss: 0.4317, Validation Loss: 0.5415, Validation Accuracy: 82.78%\n",
      "Validation loss improved! Saving model...\n",
      "Epoch [16/20], Train Loss: 0.4229, Validation Loss: 0.5293, Validation Accuracy: 83.07%\n",
      "Validation loss improved! Saving model...\n",
      "Epoch [17/20], Train Loss: 0.4136, Validation Loss: 0.5319, Validation Accuracy: 83.21%\n",
      "Validation loss did not improve. Patience: 1/3\n",
      "Epoch [18/20], Train Loss: 0.4043, Validation Loss: 0.5320, Validation Accuracy: 83.17%\n",
      "Validation loss did not improve. Patience: 2/3\n",
      "Epoch [19/20], Train Loss: 0.3978, Validation Loss: 0.5224, Validation Accuracy: 83.33%\n",
      "Validation loss improved! Saving model...\n",
      "Epoch [20/20], Train Loss: 0.3907, Validation Loss: 0.5159, Validation Accuracy: 83.46%\n",
      "Validation loss improved! Saving model...\n"
     ]
    }
   ],
   "source": [
    "device = torch.device(\"cuda\" if torch.cuda.is_available() else \"cpu\")\n",
    "model = CNN(n_classes=num_classes).to(device)\n",
    "criterion = nn.CrossEntropyLoss()  # Suitable for classification tasks\n",
    "optimizer = optim.Adam(model.parameters(), lr=learning_rate)\n",
    "scheduler = ReduceLROnPlateau(optimizer, mode = 'min', factor = .2, patience =10)  # Reduce LR by 10x every 5 epochs\n",
    "best_val_loss = float('inf')\n",
    "patience = 3  # Number of epochs to wait for improvement\n",
    "counter = 0\n",
    "\n",
    "for epoch in range(num_epochs):\n",
    "    # Training step\n",
    "    model.train()\n",
    "    running_loss = 0.0\n",
    "    for images, labels in data_loader:\n",
    "        images, labels = images.to(device), labels.to(device)\n",
    "        outputs = model(images)\n",
    "        loss = criterion(outputs, labels)\n",
    "\n",
    "        optimizer.zero_grad()\n",
    "        loss.backward()\n",
    "        optimizer.step()\n",
    "        running_loss += loss.item()\n",
    "\n",
    "    # Validation step\n",
    "    val_loss, val_accuracy = validate(model, val_loader, criterion, device)\n",
    "\n",
    "    print(f\"Epoch [{epoch+1}/{num_epochs}], Train Loss: {running_loss/len(data_loader):.4f}, \"\n",
    "          f\"Validation Loss: {val_loss:.4f}, Validation Accuracy: {val_accuracy:.2f}%\")\n",
    "\n",
    "    # Early stopping logic\n",
    "    if val_loss < best_val_loss:\n",
    "        best_val_loss = val_loss\n",
    "        counter = 0\n",
    "        print(\"Validation loss improved! Saving model...\")\n",
    "    else:\n",
    "        counter += 1\n",
    "        print(f\"Validation loss did not improve. Patience: {counter}/{patience}\")\n",
    "        if counter >= patience:\n",
    "            print(\"Early stopping triggered!\")\n",
    "            break\n",
    "    scheduler.step(val_loss)"
   ]
  },
  {
   "cell_type": "code",
   "execution_count": 5,
   "metadata": {},
   "outputs": [
    {
     "name": "stdout",
     "output_type": "stream",
     "text": [
      "Test Loss: 0.4974, Test Accuracy: 83.93%\n"
     ]
    }
   ],
   "source": [
    "test_model(model, data_loader_test, device, criterion)"
   ]
  },
  {
   "cell_type": "code",
   "execution_count": null,
   "metadata": {},
   "outputs": [],
   "source": []
  }
 ],
 "metadata": {
  "kernelspec": {
   "display_name": "Python 3",
   "language": "python",
   "name": "python3"
  },
  "language_info": {
   "codemirror_mode": {
    "name": "ipython",
    "version": 3
   },
   "file_extension": ".py",
   "mimetype": "text/x-python",
   "name": "python",
   "nbconvert_exporter": "python",
   "pygments_lexer": "ipython3",
   "version": "3.12.7"
  },
  "orig_nbformat": 4
 },
 "nbformat": 4,
 "nbformat_minor": 2
}
