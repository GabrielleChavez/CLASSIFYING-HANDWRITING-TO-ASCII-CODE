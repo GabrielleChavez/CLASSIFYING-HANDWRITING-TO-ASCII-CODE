{
 "cells": [
  {
   "cell_type": "code",
   "execution_count": 1,
   "metadata": {},
   "outputs": [],
   "source": [
    "from classifiers import train_knn, train_perceptron, train_random_forest, train_svm, train_xgboost, train_random_forest\n",
    "from preprocess import get_data\n",
    "from testing_models import evaluate_model\n",
    "import matplotlib.pyplot as plt"
   ]
  },
  {
   "cell_type": "code",
   "execution_count": null,
   "metadata": {},
   "outputs": [],
   "source": [
    "#Data Creation\n",
    "trainData =get_data(\"train/\",\"ascii_file_counts.csv\")\n",
    "testData = get_data(\"test\",\"ascii_file_counts.csv\")\n",
    "XTrain, ytrain = trainData\n",
    "XTest, ytest = testData"
   ]
  },
  {
   "cell_type": "code",
   "execution_count": null,
   "metadata": {},
   "outputs": [],
   "source": [
    "#XGboost train\n",
    "estimators = range(20,100, 10)\n",
    "depths = range(2,20,2)\n",
    "\n",
    "f1_list_estimators = []\n",
    "acc_list_estimators = []\n",
    "prec_list_estimators =[]\n",
    "recall_list_estimators = []\n",
    "\n",
    "for estimator_count in estimators:\n",
    "   model = train_xgboost(XTrain, ytrain, n_estimators = estimator_count, max_depth = 10)\n",
    "   y_pred = model.predict(XTest)\n",
    "   f1, acc, cm, prec, recall = evaluate_model(model, ytest, y_pred)\n",
    "   f1_list_estimators.append(f1)\n",
    "   acc_list_estimators.append(acc)\n",
    "   prec_list_estimators.append(prec)\n",
    "   recall_list_estimators.append(recall)\n",
    "\n",
    "f1_list_depth = []\n",
    "acc_list_depth = []\n",
    "prec_list_depth =[]\n",
    "recall_list_depth = []\n",
    "\n",
    "for depth in depths:\n",
    "   model = train_xgboost(XTrain, ytrain, n_estimators =35, max_depth = depth)\n",
    "   y_pred = model.predict(XTest)\n",
    "   f1, acc, cm, prec, recall = evaluate_model(model, ytest, y_pred)\n",
    "   f1_list_depth.append(f1)\n",
    "   acc_list_depth.append(acc)\n",
    "   prec_list_depth.append(prec)\n",
    "   recall_list_depth.append(recall)\n"
   ]
  },
  {
   "cell_type": "code",
   "execution_count": null,
   "metadata": {},
   "outputs": [],
   "source": [
    "#XGBoost Estimator Variant Plots\n",
    "fig, axes = plt.subplots(2, 2, figsize=(15, 4))  # 1 row, 5 columns\n",
    "\n",
    "# Plot data on each subplot\n",
    "axes[0, 0].plot(estimators, f1_list_estimators)\n",
    "axes[0, 0].set_title(\"F1 Score Progression\")\n",
    "\n",
    "axes[0, 1].plot(estimators, acc_list_estimators)\n",
    "axes[0, 1].set_title(\"Accuracy Progression\")\n",
    "\n",
    "axes[1, 0].plot(estimators, prec_list_estimators)\n",
    "axes[1, 0].set_title(\"Precision Score Progression\")\n",
    "\n",
    "axes[1, 1].plot(estimators, recall_list_estimators)\n",
    "axes[1, 1].set_title(\"Recall Score Progression\")\n",
    "\n",
    "# Adjust layout\n",
    "plt.tight_layout()\n",
    "\n",
    "# Show the figure\n",
    "plt.show()"
   ]
  },
  {
   "cell_type": "code",
   "execution_count": null,
   "metadata": {},
   "outputs": [],
   "source": [
    "#XGBoost Estimator Variant Plots\n",
    "fig, axes = plt.subplots(2, 2, figsize=(15, 4))  # 1 row, 5 columns\n",
    "\n",
    "# Plot data on each subplot\n",
    "axes[0, 0].plot(depth, f1_list_depth)\n",
    "axes[0, 0].set_title(\"F1 Score Progression- XGBoost\")\n",
    "\n",
    "axes[0, 1].plot(depth, acc_list_depth)\n",
    "axes[0, 1].set_title(\"Accuracy Progression- XGBoost\")\n",
    "\n",
    "axes[1, 0].plot(depth, prec_list_depth)\n",
    "axes[1, 0].set_title(\"Precision Score Progression- XGBoost\")\n",
    "\n",
    "axes[1, 1].plot(depth, recall_list_depth)\n",
    "axes[1, 1].set_title(\"Recall Score Progression- XGBoost\")\n",
    "\n",
    "# Adjust layout\n",
    "plt.tight_layout()\n",
    "\n",
    "# Show the figure\n",
    "plt.show()"
   ]
  },
  {
   "cell_type": "markdown",
   "metadata": {},
   "source": []
  },
  {
   "cell_type": "code",
   "execution_count": null,
   "metadata": {},
   "outputs": [],
   "source": [
    "#Random Forest Train\n",
    "estimators = range(20,100, 10)\n",
    "\n",
    "f1_list_estimators = []\n",
    "acc_list_estimators = []\n",
    "prec_list_estimators =[]\n",
    "recall_list_estimators = []\n",
    "\n",
    "for estimator_count in estimators:\n",
    "   model = train_random_forest(XTrain, ytrain, n_estimators = estimator_count)\n",
    "   y_pred = model.predict(XTest)\n",
    "   f1, acc, cm, prec, recall = evaluate_model(model, ytest, y_pred)\n",
    "   f1_list_estimators.append(f1)\n",
    "   acc_list_estimators.append(acc)\n",
    "   prec_list_estimators.append(prec)\n",
    "   recall_list_estimators.append(recall)"
   ]
  },
  {
   "cell_type": "code",
   "execution_count": null,
   "metadata": {},
   "outputs": [],
   "source": [
    "#Random Forest Plots\n",
    "fig, axes = plt.subplots(2, 2, figsize=(15, 4))  # 1 row, 5 columns\n",
    "\n",
    "# Plot data on each subplot\n",
    "axes[0, 0].plot(depth, f1_list_estimators)\n",
    "axes[0, 0].set_title(\"F1 Score Progression- Random Forest\")\n",
    "\n",
    "axes[0, 1].plot(depth, acc_list_estimators)\n",
    "axes[0, 1].set_title(\"Accuracy Progression- Random Forest\")\n",
    "\n",
    "axes[1, 0].plot(depth, prec_list_estimators)\n",
    "axes[1, 0].set_title(\"Precision Score Progression- Random Forest\")\n",
    "\n",
    "axes[1, 1].plot(depth, recall_list_estimators)\n",
    "axes[1, 1].set_title(\"Recall Score Progression- Random Forest\")\n",
    "\n",
    "# Adjust layout\n",
    "plt.tight_layout()\n",
    "\n",
    "# Show the figure\n",
    "plt.show()"
   ]
  },
  {
   "cell_type": "code",
   "execution_count": null,
   "metadata": {},
   "outputs": [],
   "source": [
    "#Random Forest Train\n",
    "neighbors = range()\n",
    "\n",
    "f1_list_estimators = []\n",
    "acc_list_estimators = []\n",
    "prec_list_estimators =[]\n",
    "recall_list_estimators = []\n",
    "\n",
    "for estimator_count in estimators:\n",
    "   model = train_random_forest(XTrain, ytrain, n_estimators = estimator_count)\n",
    "   y_pred = model.predict(XTest)\n",
    "   f1, acc, cm, prec, recall = evaluate_model(model, ytest, y_pred)\n",
    "   f1_list_estimators.append(f1)\n",
    "   acc_list_estimators.append(acc)\n",
    "   prec_list_estimators.append(prec)\n",
    "   recall_list_estimators.append(recall)"
   ]
  }
 ],
 "metadata": {
  "kernelspec": {
   "display_name": "base",
   "language": "python",
   "name": "python3"
  },
  "language_info": {
   "codemirror_mode": {
    "name": "ipython",
    "version": 3
   },
   "file_extension": ".py",
   "mimetype": "text/x-python",
   "name": "python",
   "nbconvert_exporter": "python",
   "pygments_lexer": "ipython3",
   "version": "3.12.7"
  },
  "orig_nbformat": 4
 },
 "nbformat": 4,
 "nbformat_minor": 2
}
