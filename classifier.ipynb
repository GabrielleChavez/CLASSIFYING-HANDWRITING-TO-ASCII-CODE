{
 "cells": [
  {
   "cell_type": "code",
   "execution_count": 1,
   "metadata": {},
   "outputs": [],
   "source": [
    "from classifiers import xgboost_model, xgboost_test\n",
    "from preprocess import get_data\n",
    "import matplotlib.pyplot as plt"
   ]
  },
  {
   "cell_type": "code",
   "execution_count": null,
   "metadata": {},
   "outputs": [],
   "source": [
    "#Data Creation\n",
    "trainData =get_data(\"train/\",\"ascii_file_counts.csv\")\n",
    "testData = get_data(\"test\",\"ascii_file_counts.csv\")\n",
    "XTrain, ytrain = trainData\n",
    "XTest, ytest = testData"
   ]
  },
  {
   "cell_type": "code",
   "execution_count": null,
   "metadata": {},
   "outputs": [],
   "source": [
    "#XGboost train\n",
    "estimators = range(20,100, 10)\n",
    "depths = range(2,20,2)\n",
    "\n",
    "f1_list_estimators = []\n",
    "acc_list_estimators = []\n",
    "cm_list_estimators = []\n",
    "prec_list_estimators =[]\n",
    "recall_list_estimators = []\n",
    "accuracy_list_estimators = []\n",
    "\n",
    "for estimator_count in estimators:\n",
    "   model = xgboost_model(XTrain, ytrain, n_estimators = estimator_count, max_depth = 10)\n",
    "   f1, acc, cm, prec, recall, accuracy = xgboost_test(model, XTest, ytest)\n",
    "   f1_list_estimators.append(f1)\n",
    "   acc_list_estimators.append(acc)\n",
    "   cm_list_estimators.append(cm)\n",
    "   prec_list_estimators.append(prec)\n",
    "   recall_list_estimators.append(recall)\n",
    "\n",
    "f1_list_depth = []\n",
    "acc_list_depth = []\n",
    "cm_list_depth = []\n",
    "prec_list_depth =[]\n",
    "recall_list_depth = []\n",
    "accuracy_list_depth = []\n",
    "\n",
    "for depth in depths:\n",
    "   model = xgboost_model(XTrain, ytrain, n_estimators = estimator_count, max_depth = 10)\n",
    "   f1, acc, cm, prec, recall, accuracy = xgboost_test(model, XTest, ytest)\n",
    "   f1_list_depth.append(f1)\n",
    "   acc_list_depth.append(acc)\n",
    "   cm_list_depth.append(cm)\n",
    "   prec_list_depth.append(prec)\n",
    "   recall_list_depth.append(recall)\n"
   ]
  },
  {
   "cell_type": "code",
   "execution_count": null,
   "metadata": {},
   "outputs": [],
   "source": []
  },
  {
   "cell_type": "code",
   "execution_count": null,
   "metadata": {},
   "outputs": [],
   "source": [
    "fig, axes = plt.subplots(2, 3, figsize=(12, 8))  # 2 rows, 3 columns of subplots\n",
    "\n",
    "# Add graphs to each subplot\n",
    "axes[0, 0].plot(estimators, f1_list_estimators)   # First graph\n",
    "axes[0, 0].set_title(\"F1 Score by Depth\")\n",
    "\n",
    "axes[0, 0].plot(estimators, acc_list_estimators)   # First graph\n",
    "axes[0, 0].set_title(\"F1 Score by Depth\")\n",
    "\n",
    "axes[0, 0].plot(estimators, cm_list_estimators)   # First graph\n",
    "axes[0, 0].set_title(\"F1 Score by Depth\")\n",
    "\n",
    "axes[0, 0].plot(estimators, prec_list_estimators)   # First graph\n",
    "axes[0, 0].set_title(\"F1 Score by Depth\")\n",
    "\n",
    "axes[0, 0].plot(estimators, recall_list_estimators)   # First graph\n",
    "axes[0, 0].set_title(\"F1 Score by Depth\")\n",
    "\n",
    "\n",
    "\n",
    "# Adjust layout to prevent overlap\n",
    "plt.tight_layout()\n",
    "\n",
    "# Show the figure\n",
    "plt.show()"
   ]
  }
 ],
 "metadata": {
  "kernelspec": {
   "display_name": "base",
   "language": "python",
   "name": "python3"
  },
  "language_info": {
   "codemirror_mode": {
    "name": "ipython",
    "version": 3
   },
   "file_extension": ".py",
   "mimetype": "text/x-python",
   "name": "python",
   "nbconvert_exporter": "python",
   "pygments_lexer": "ipython3",
   "version": "3.12.7"
  },
  "orig_nbformat": 4
 },
 "nbformat": 4,
 "nbformat_minor": 2
}
